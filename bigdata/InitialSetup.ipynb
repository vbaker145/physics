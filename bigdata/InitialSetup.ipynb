{
 "cells": [
  {
   "cell_type": "markdown",
   "metadata": {
    "slideshow": {
     "slide_type": "slide"
    }
   },
   "source": [
    "# Gettings Started\n",
    "\n",
    "G. Richards, 2016\n",
    "\n",
    "This notebook contains most everything that we need to get started.  It draws heavily from classes taught by Andy Connolly (http://cadence.lsst.org/introAstroML/) and Karen Leighly ([seminar.ouml.org](http://seminar.ouml.org))."
   ]
  },
  {
   "cell_type": "markdown",
   "metadata": {
    "slideshow": {
     "slide_type": "slide"
    }
   },
   "source": [
    "## Installing Git\n",
    "\n",
    "Things will be a lot easier if you can download the file that we are currently viewing (which is a jupyter notebook---more on that later).  Then you won't have to try to read what is on the screen at the front of the room---you can just read your own screen.  More importanly you can interact directly with the notebook.  We will do the same as the course goes on.\n",
    "\n",
    "So, we will use a repository tool called 'Git' that will let you download the notebooks that I put into the repository before each class.  If you miss a class your homework will be to \"complete\" the notebook before the next class.  \n",
    "\n",
    "If you want, you can make a account on [GitHub](https://github.com/), where you can create your own repositories.  But for now, you just need to have Git installed on your machine so that you can use it to 'pull' files from the class repository.\n",
    "\n",
    "To get Git for any platform, see: [https://git-scm.com/download/](https://git-scm.com/download/).\n",
    "\n",
    "If you are using the Newton cluster machines, Git is already installed.\n",
    "\n",
    "Once Git is installed, make a place where you are going to put the class repository.  Perhaps in a git subdirectory if you think that you might use more repositories later (we might even for this class!).  \n",
    "\n",
    "    [~]% cd ~\n",
    "    [~]% mkdir git\n",
    "    [~]% cd git\n",
    " \n",
    "Now we need to \"clone\" the class repository into your account\n",
    "\n",
    "    [~]% git clone https://github.com/gtrichards/PHYS_T480.git\n",
    "    \n",
    "This will make a subdirectory called \"PHYS_T480\" in which you will see a file called \"InitialSetup.ipynb\", which is the file that you are reading now!  \n",
    "\n",
    "If you already know what a jupyter (or IPython) notebook is, go ahead and open the file with jupyter.  Otherwise, hang on and we'll get to that.\n",
    "\n",
    "Before each class, you will want to update this repository so that you get any new files that I have put there for you.  Do that with\n",
    "\n",
    "    [~]% cd ~/git/PHYS_T480\n",
    "    [~]% git status\n",
    "    [~]% git pull"
   ]
  },
  {
   "cell_type": "markdown",
   "metadata": {
    "slideshow": {
     "slide_type": "slide"
    }
   },
   "source": [
    "\n",
    "# Setting Up Your Computer\n",
    "\n",
    "Everyone will need to have the proper software environment in order to be able to participate in the course.  This can either be on the newton cluster machines or on your laptop.  Which is up to you (but we don't have enough computers for everyone!)\n",
    "\n",
    "\n",
    "The software requirements are as follows:\n",
    "    Anaconda Python 2.7.X  (not 3.X unless you know how to deal with the differences)\n",
    "\n",
    "    NumPy version 1.11+: efficient array operations\n",
    "    SciPy version 0.17+: scientific computing tools\n",
    "    matplotlib version 1.5+: plotting and visualization\n",
    "    jupyter version 1.0+: interactive computing (formerly IPython)\n",
    "    Scikit-learn version 0.17+: machine learning\n",
    "    astroML: an astronomical machine learning toolkit"
   ]
  },
  {
   "cell_type": "markdown",
   "metadata": {
    "slideshow": {
     "slide_type": "slide"
    }
   },
   "source": [
    "---\n",
    "## Anaconda Installation\n",
    "\n",
    "If you don’t already have Anaconda Python 2.7.X, then go to \n",
    "https://www.continuum.io/downloads\n",
    "and download the installer of your choice (e.g., the graphical OSX installer.  Again for Python 2.7, not 3).\n",
    "Don't worry--it's free.  But by all means, have them send you the cheat sheet if you are asked.\n",
    "\n",
    "Open the install package and follow the instructions, installing **for you only**.\n",
    "\n",
    "Open a **new** terminal window, and make sure your $PATH variable points to the Anaconda installation. You can do this by typing\n",
    "\n",
    "    [~]% which python\n",
    "\n",
    "The result should show the path to the newly-installed anaconda folder. If not, you must modify your $PATH variable to point to the anaconda directory as follows:\n",
    "\n",
    "---\n",
    "### Add Anaconda Python to the path \n",
    "\n",
    "I use TCSH, so I added the following to my .tcshrc file:                                                                                                                                \n",
    "    `set path=(/Users/gtr/anaconda/bin $path)`\n",
    "\n",
    "If you use BASH instead, you’ll have to add the following to your .bashrc file:\n",
    " \n",
    "   `PATH=\"/home/newton3/gtr/anaconda2/bin:$PATH\"`\n",
    "\n",
    "\n",
    "For good measure (since I have about 12 python installations on my computer), I usually create an alias for Anaconda python so that I know that I’m starting that particular python if I’m using the command line.\n",
    "\n",
    "    alias apython '/Users/gtr/anaconda/bin/python'\n",
    "\n",
    "\n",
    "Now either close that terminal window and open a new one, or type \n",
    "\n",
    "    [~]% source .tcshrc\n",
    "or\n",
    "    [~]% source .bashrc\n",
    "\n",
    "then\n",
    "\n",
    "    [~]% which python\n",
    "\n",
    "Hopefully all is well now.\n",
    "\n"
   ]
  },
  {
   "cell_type": "markdown",
   "metadata": {
    "slideshow": {
     "slide_type": "slide"
    }
   },
   "source": [
    "---\n",
    "### Update your Anaconda distribution\n",
    "\n",
    "You can (and should) update your anaconda distribution with the following command.\n",
    "\n",
    "    [~]% conda update conda\n",
    "\n",
    "Note that **conda** is the package management system that comes with anaconda.  **Do this once a week.**\n",
    "\n",
    "\n",
    "I’m currently running Python 2.7.12 via conda-4.2.7.  You don’t have to be doing *exactly* the same, but if you run into problems that I am not having, that would be a good place to start debugging.\n",
    "\n",
    "Conda will have installed most of the the other software packages listed above.   The exceptions are noted below."
   ]
  },
  {
   "cell_type": "markdown",
   "metadata": {
    "collapsed": true,
    "slideshow": {
     "slide_type": "slide"
    }
   },
   "source": [
    "---\n",
    "## Installing astroML\n",
    "\n",
    "[astroML](http://www.astroml.org/) is the software library that goes together with [the book](http://press.princeton.edu/titles/10159.html).  Much of it is a series of wrappers to [scikit-learn](http://scikit-learn.org/), where Jake VanderPlas is one of the main contributors to each.  Jake has written an [Intro to AstroML](http://ieeexplore.ieee.org/stamp/stamp.jsp?arnumber=6382200) paper that is worth going through to give you an idea of the sorts of things that we'll be doing in the class.\n",
    "\n",
    "The astroML packages and add-ons can be installed using **pip** (the python package installer):\n",
    "\n",
    "    [~]% pip install astroML\n",
    "\n",
    "then\n",
    "\n",
    "    [~]% pip install astroML_addons"
   ]
  },
  {
   "cell_type": "markdown",
   "metadata": {
    "slideshow": {
     "slide_type": "slide"
    }
   },
   "source": [
    "## Installing other things\n",
    "\n",
    "We'll need a few other packages installed as we go along.  Here are the ones that I remembered to write down.  You can either install them now, or you can do it later (when you get an error message!).\n",
    "\n",
    "    [~]% conda install -c astropy astroquery\n",
    "    \n",
    "    [~]% pip install corner"
   ]
  },
  {
   "cell_type": "markdown",
   "metadata": {
    "slideshow": {
     "slide_type": "slide"
    }
   },
   "source": [
    "## Getting Started with Python\n",
    "\n",
    "The course requirements were setup up to ensure that you have at least *some* (extended) experience with Python.  E.g., you might have taken the 113-114-115 series.  If you don't know *any* Python at all, this class may be pretty tough going.  However, many of you might need a refresher.  A good place to start is **Appendix A** (more specifically A3) in the textbook.  \n",
    "\n",
    "I also recommend the [codecademy](https://www.codecademy.com/) course on Python.  It is free and does a good job of walking you through things that you need to learn.\n",
    "\n",
    "You might also be interested in [A Student’s Guide to Python for Physical Modeling](http://press.princeton.edu/titles/10644.html): Chapters 1-3 provide a good introduction to Python before getting into the \"physical modeling\" part.  It encourages the use of **spyder**, which is a matlab-like interactive interface for Python.\n",
    "\n",
    "And, of course, you can google 'python tutorial' (or some such) and find a plethora of things that you may or may not like better.\n",
    "\n",
    "---\n",
    "\n",
    "## Interfacing with Python\n",
    "\n",
    "You can interface with Python by 1) starting it on the command line: `python`; 2) starting an \"interactive\" Python interface [IPython](https://ipython.org/): `ipython`, which provides lots of built in functionality through pre-defined scripts; or 3) using a web-based interactive interface to IPython, which used be called an 'ipython notebook', but is now called `jupyter notebook`.\n",
    "\n",
    "We'll be using the latter.  In fact, each lecture will be in the form of a [jupyter notebook](http://jupyter.org/) that you'll download from the github repository before the start of each class.  Indeed, now that we have everything installed, you should be able to go to your PHYS_T480 directory and type `jupyter notebook InitialSetup.ipynb &` to open this file in your browser.  (Chrome is recommended).\n",
    "\n"
   ]
  },
  {
   "cell_type": "markdown",
   "metadata": {
    "slideshow": {
     "slide_type": "slide"
    }
   },
   "source": [
    "## (Brief) Review of Python Basics\n",
    "\n",
    "To start with Python uses the following [numerical data types and operations](https://docs.python.org/2/library/stdtypes.html#boolean-operations-and-or-not)\n",
    "\n",
    "We will encounter three main types of collections of data:\n",
    "- Lists: a mutable array of data\n",
    "- Tuples: ordered, immutable list\n",
    "- Dictionaries: keyword/value lookup\n",
    "\n",
    "It is worth noting that python begins indexing at 0 and uses [row-major order](https://en.wikipedia.org/wiki/Row-major_order).\n",
    "\n",
    "\n",
    "Tuple\n",
    "- denoted by parentheses, e.g., x=(5.0,7.0,9.0,11.0)\n",
    "- its most notable property is that it is immutable – after being defined, it cannot be changed\n",
    "- to index, use square brackets, e.g., print x[0]\n",
    "- can get part of one using, e.g., print x[2:] etc.\n",
    "\n",
    "List\n",
    "- denoted with brackets, e.g,. y=[5.0,7.0,9.0,11.0]\n",
    "- in contrast to a tuple, it can be reassigned\n",
    "- to index, also use square brackets, e.g., print x[0]\n",
    "- can get part of one using, e.g., print y[2:] etc.\n",
    "\n",
    "Dictionary\n",
    "- assigns a value to a key, for example z={'a':2,'b':4,'c':6}, where a,b,c are the keywords.\n",
    "- the dictionary is indexed by the keyword, e.g., print z['a']\n",
    "- they can be quite complicated.\n",
    "    \n",
    "Here is a lot more on data structures: [https://docs.python.org/2/tutorial/datastructures.html](https://docs.python.org/2/tutorial/datastructures.html).\n",
    "\n"
   ]
  },
  {
   "cell_type": "markdown",
   "metadata": {
    "slideshow": {
     "slide_type": "slide"
    }
   },
   "source": [
    "---\n",
    "### Methods and Attributes\n",
    "\n",
    "Each type of data structure has associated “methods”. A method is like a little built-in function that can be run on a data structure.\n",
    "\n",
    "For example, open a new cell (or in a python terminal window) and do the following:\n",
    "\n",
    "```python\n",
    "v=[27.0,35.0,101.0,57.0]\n",
    "print v\n",
    "v.sort()\n",
    "print v\n",
    "```\n",
    "\n",
    "So $v$ has now been replaced with the sorted $v$.\n",
    "\n",
    "Basic mathematical operations that can be applied to your data are found here: [https://docs.python.org/2/library/math.html](https://docs.python.org/2/library/math.html).\n",
    "\n",
    "OK, hopefully that is a refresher for everyone, so let's get going with more complicated stuff.\n",
    "If you need more of a refresher than that, see the links above."
   ]
  },
  {
   "cell_type": "markdown",
   "metadata": {
    "slideshow": {
     "slide_type": "slide"
    }
   },
   "source": [
    "\n",
    "## Open a jupyter notebook\n",
    "\n",
    "    [~]% jupyter notebook &\n",
    "    \n",
    "Will pop up a web page in your default browser and show the Dashboard where you can navigate to a particular notebook or open a new one.  You can also open a notebook directly with \n",
    "\n",
    "    [~]% jupyter notebook InitialSetup.ipynb &\n",
    "   \n",
    "If you are creating a new notebook, click on 'new' at the top-right of the page and select 'python'.  (N.B.  If I get Chrome Cast working, I'll ask you to edit the jupyter defaults to use Google Chrome for class.)"
   ]
  },
  {
   "cell_type": "markdown",
   "metadata": {
    "collapsed": true,
    "slideshow": {
     "slide_type": "slide"
    }
   },
   "source": [
    "## Working with jupyter notebooks and IPython\n",
    "\n",
    "Notebooks have 2 primary cell types: 'Markdown' and 'Code'.    The Markdown cells are basically just for you to read.  The Code cells are meant to be executed (perhaps after you have filled in some blanks).  \n",
    "\n",
    "To execute a cell in the notebook, type '**shift-return**'. If you see a * in the square bracket to the left of the cell or a 'Busy' in the tab title, it means the command is in the process of running, and you need to wait for it to finish.\n",
    "\n",
    "The notebook is autosaved, so that when you return to a notebook, everything is the same as you left it. If you want to reset it, you can do “revert to checkpoint”.  If you save it yourself, you will create a checkpoint, and the original version will be unavailable.\n",
    "\n",
    "\n",
    "\n",
    "Here are some useful IPython commands to get you started (# followed by text indicates a comment and not what you type)!\n",
    "\n",
    "    In [ ]: ?          # basic help function.  Pops open a sub-frame at the bottom of page.  \n",
    "                         Close with \"x\".\n",
    "    \n",
    "    In [ ]: %quickref  # Pops open a quick reference card\n",
    "    \n",
    "    In [ ]: ! \t       # spawning out to the operating system; \n",
    "                         e.g files=!ls will fill the variable files \n",
    "                         with a list of files in your directory.\n",
    "\n",
    "\n",
    "IPython also contains a number of [“magic” commands](https://ipython.org/ipython-doc/dev/interactive/magics.html).\n",
    "Two examples are\n",
    "\n",
    "    In [ ]: %matplotlib inline  # makes plots within the web browser instead of popping up a new window\n",
    "    \n",
    "    In [ ]: %whos               # lists the vectors, etc. that you have defined.\n",
    "\n",
    "IPython also has lots of [keyboard shortcuts](https://ipython.org/ipython-doc/1/interactive/notebook.html#keyboard-shortcuts) – the main one is shift-enter to run a cell."
   ]
  },
  {
   "cell_type": "markdown",
   "metadata": {
    "slideshow": {
     "slide_type": "slide"
    }
   },
   "source": [
    "## NumPy\n",
    "\n",
    "NumPy is short for Numerical Python. It is the foundational package for scientific computing in Python. It is a library which will allow us to work with data structures called **arrays** that are more efficient for storing and manipulating data than other Python data structures (or C++ for that matter). \n",
    "\n",
    "For example, cut and paste this into a new cell, then type shift-enter to run it:\n",
    "\n",
    "```python\n",
    "import numpy as np\n",
    "xlist = [1,2,3]\n",
    "xarray = np.array(xlist)\n",
    "twice_xarray = 2*xarray\n",
    "print twice_xarray\n",
    "```\n",
    "\n",
    "This is far better than creating a `for` loop over the entries in `xlist` or even something fancier like a \"list comprehension\"\n",
    "```python\n",
    "twice_xlist = [2*x for x in xlist]\n",
    "print twice_xlist\n",
    "```\n",
    "Note the lack of commas in the array as compared to the list.\n",
    "\n",
    "To load the Numpy library type:  \n",
    "\n",
    "    In [ ]: import numpy as np\n",
    "    \n",
    "In fact, just plan on starting **every** new series of code cells with this!    \n",
    "\n",
    "The basic unit for numpy is an [ndarray](https://docs.scipy.org/doc/numpy/reference/arrays.ndarray.html).  See the link for examples of how to define, index, slice, etc. the array."
   ]
  },
  {
   "cell_type": "markdown",
   "metadata": {
    "slideshow": {
     "slide_type": "slide"
    }
   },
   "source": [
    "There are quite a few **methods** associated with arrays.  Some useful ones include:\n",
    "\n",
    "|Method |\tProperty|\n",
    "|-------|-----------|\n",
    "|np.zeros(5,float) |\tyields a 5-element array of zeros of type float |\n",
    "|a=np.empty(4) |\tyields a 4-element empty array |\n",
    "|a.fill(5.5) |\tfills that array with 5.5 for all elements |\n",
    "|np.arange(5) |\tyields an integer array of length 5 with increasing values | \n",
    "|b=np.random.normal(10,3,5) |\tyields a 5 element array of normally distributed numbers with mean 10 and variance 3 |\n",
    "|mask=b > 9 |\tcreates a boolean array determing which numbers are greater than 9 |\n",
    "|print b[mask] |\tprints the ones with values > 9 |\n",
    "|b[mask]=0 | sets the ones > 9 to zero |\n",
    "\n",
    "Arrays can be multidimensional, e.g., ```c=np.random.normal(10,3,(2,4))```, creates a 2 x 4 array with normally distributed numbers with mean 10 and variance 3.\n",
    "\n",
    "More methods for multidimensional arrays:\n",
    "\n",
    "|Method |\tProperty|\n",
    "|-------|-----------|\n",
    "|d=c[0,:] |\tgrabs the first (0th) row of c. |\n",
    "|d=c[1,:] |\tgrabs the second (1st) row of c. |\n",
    "|d=c[:,0] |\tgrabs the first column of c. |\n",
    "|c.dtype |\tdata type |\n",
    "|c.size |\ttotal number of elements |\n",
    "|c.ndim |\tnumber of dimensions |\n",
    "|c.shape |\tshape or dimensionality |\n",
    "|c.nbytes |\tmemory used (bytes) |\n",
    "|c.min() |\tgives the minimum of c |\n",
    "|c.max() |\tgives the maximum of c |\n",
    "|c.sum() |\tsum of all elements |\n",
    "|c.mean() |\tmean of all elements |\n",
    "|c.std() |\tstandard deviation of all elements |\n",
    "|c.sum(axis=0) | will present sum along the 0th axis (column direction). The result will have reduced dimensionality |\n",
    "\n",
    "You can also operate with arrays, for example, adding them together, multiplying them, multiplying or adding a constant. There are, however, \"broadcasting\" rules so that you need to make sure you know what you are doing when dealing with arrays of different sizes."
   ]
  },
  {
   "cell_type": "markdown",
   "metadata": {
    "slideshow": {
     "slide_type": "slide"
    }
   },
   "source": [
    "## SciPy\n",
    "\n",
    "\n",
    "[SciPy](http://docs.scipy.org/doc/scipy/reference/) is an \"open-source software for mathematics, science, and engineering\".  We 'import' it the same way that we import numpy:\n",
    "\n",
    "\n",
    "    In [ ]: import scipy\n",
    "\n",
    "\n",
    "SciPy is a suite of tools for data analysis including integration, statistical functions, interpolation.  It is built on top of Numpy. Where Numpy is intended for array *manipulation*, Scipy is intended for *analysis*. This is where many useful tools will be.  It may be worth looking at the users guide to get an idea of the kinds of functions are available.   N.B.  For some packages you need to import more than just the main scipy package.  So, for example to see what is available in the scipy.integrate package, do the following:\n",
    "\n",
    "```\n",
    "import scipy.integrate\n",
    "scipy.integrate?\n",
    "```\n",
    "\n",
    "You can also make use of TAB completetion to see what is available\n",
    "\n",
    "```\n",
    "scipy.integrate.[TAB]\n",
    "```\n",
    "\n",
    "The catch is that, since we are using notebooks, you need to have *imported* FIRST, because otherwise the computer doesn't know what you are asking about yet."
   ]
  },
  {
   "cell_type": "markdown",
   "metadata": {
    "slideshow": {
     "slide_type": "slide"
    }
   },
   "source": [
    "## Matplotlib\n",
    "\n",
    "It is generally useful to be able to visualize your data.  We will do that using the \n",
    "[matplotlib](http://matplotlib.org/) library.   Most of you should be familiar with it already, but we will likely be making some plots that are more complex than you are used to.  One nice resource is this [thumbnail gallery](http://matplotlib.org/gallery.html) which you can use to figure out how to make a new plot.\n",
    "\n",
    "Let's make sure that everything is working by making a simple plot\n"
   ]
  },
  {
   "cell_type": "code",
   "execution_count": 2,
   "metadata": {
    "collapsed": false,
    "slideshow": {
     "slide_type": "slide"
    }
   },
   "outputs": [
    {
     "name": "stderr",
     "output_type": "stream",
     "text": [
      "/Users/gtr/anaconda/lib/python2.7/site-packages/matplotlib/font_manager.py:273: UserWarning: Matplotlib is building the font cache using fc-list. This may take a moment.\n",
      "  warnings.warn('Matplotlib is building the font cache using fc-list. This may take a moment.')\n"
     ]
    },
    {
     "data": {
      "image/png": "[encoded data removed]",
      "text/plain": [
       "<matplotlib.figure.Figure at 0x10da02fd0>"
      ]
     },
     "metadata": {},
     "output_type": "display_data"
    }
   ],
   "source": [
    "# magic command to make the figure pop up below instead of in a new window\n",
    "%matplotlib inline \n",
    "\n",
    "# invoke pyplot in matplotlib, give it an alias\n",
    "import matplotlib.pyplot as plt  \n",
    "import numpy as np\n",
    "\n",
    "x = np.linspace(0, 2*np.pi, 300)\n",
    "y = np.sin(x)\n",
    "plt.plot(x, y)\n",
    "y2 = np.sin(x**2)\n",
    "plt.plot(x, y, label=r'$\\sin(x)$')\n",
    "plt.plot(x, y2, label=r'$\\sin(x^2)$')\n",
    "plt.title('Some functions')\n",
    "plt.xlabel('x')\n",
    "plt.ylabel('y')\n",
    "plt.grid()\n",
    "plt.legend();"
   ]
  },
  {
   "cell_type": "markdown",
   "metadata": {
    "slideshow": {
     "slide_type": "subslide"
    }
   },
   "source": [
    "You can change both the [marker/line styles](http://matplotlib.org/examples/lines_bars_and_markers/) and [colors](http://matplotlib.org/api/colors_api.html).  I highly recommend the use of the colors in the [palettable library](https://jiffyclub.github.io/palettable/).  You can see the colors at [http://colorbrewer2.org/](http://colorbrewer2.org/).\n",
    "\n",
    "Try making some changes to the code above and see what happens."
   ]
  },
  {
   "cell_type": "markdown",
   "metadata": {
    "slideshow": {
     "slide_type": "slide"
    }
   },
   "source": [
    "## Scikit-learn\n",
    "\n",
    "The [Scikit-learn library](http://scikit-learn.org/) forms the core of computing tools that we will use for this class.  The \"scikit\"s are add-ons to **scipy**.  Scikit-learn is the add-on for machine learning.\n",
    "\n",
    "It probably needs its own introductory tutorial as both the input and output may not be quite what you would have expected.    You might want to spend some time going through their quick start guide, user's guide and tutorials here: [http://scikit-learn.org/stable/documentation.html](http://scikit-learn.org/stable/documentation.html).\n",
    "\n",
    "Ironically, Scikit-learn is **NOT** really intended for Big Data (despite the title of the course).  We will be using it to learn the basics of machine learning and big data analysis.  However, we'll see that if you want to do any real Big Data analysis, you'll need other tools.\n"
   ]
  },
  {
   "cell_type": "markdown",
   "metadata": {
    "collapsed": true,
    "slideshow": {
     "slide_type": "slide"
    }
   },
   "source": [
    "## Intro to Everything\n",
    "\n",
    "Lastly, here is a tutorial on the whole scientific Python \"ecosystem\": [www.scipy-lectures.org](http://www.scipy-lectures.org/)"
   ]
  }
 ],
 "metadata": {
  "anaconda-cloud": {},
  "celltoolbar": "Slideshow",
  "kernelspec": {
   "display_name": "Python 2",
   "language": "python",
   "name": "python2"
  },
  "language_info": {
   "codemirror_mode": {
    "name": "ipython",
    "version": 2
   },
   "file_extension": ".py",
   "mimetype": "text/x-python",
   "name": "python",
   "nbconvert_exporter": "python",
   "pygments_lexer": "ipython2",
   "version": "2.7.11"
  }
 },
 "nbformat": 4,
 "nbformat_minor": 0
}
