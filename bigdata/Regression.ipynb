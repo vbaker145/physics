{
 "cells": [
  {
   "cell_type": "markdown",
   "metadata": {
    "slideshow": {
     "slide_type": "slide"
    }
   },
   "source": [
    "# Homework\n",
    "\n",
    "Classify the pixels in this image\n",
    "\n",
    "![W Flag](http://www.chicagobusiness.com/apps/pbcsi.dll/storyimage/CG/20151020/NEWS07/151029999/AR/0/Chicago-Cubs-W-flag-has-long-history.jpg)"
   ]
  },
  {
   "cell_type": "markdown",
   "metadata": {
    "slideshow": {
     "slide_type": "slide"
    }
   },
   "source": [
    "## Regression\n",
    "\n",
    "G. Richards (2016), based on materials from Andy Connolly (especially) and Ivezic.\n",
    "\n",
    "In the simplest form, [**regression**](https://en.wikipedia.org/wiki/Regression_analysis) is about determining the relationship between an independent variable, $x$, and the variable that depends on it, $y$, where the expectation value of $y$ is $E[y|x]$.  So, in contrast to what we were doing last week, which was largely *unsupervised*, regression is a *supervised* process.\n",
    "\n",
    "Generally, what we'd like to do is to infer the true pdf from a multi-dimensional sample of data that is drawn from that pdf, using parametric or non-parametric models to do so.  As this is hard, regression seeks to determine the expectation value of $y$ (given $x$) rather than the full pdf.\n",
    "\n",
    "When I say \"regression\", you probably think about linear least-squares fitting (fitting a line) or, less likely, maximum likelihood analysis.  However, adopting a Bayesian perspective enables a more physical intuition that includes how we can do regression in the case of both errors and limits on the data. "
   ]
  },
  {
   "cell_type": "markdown",
   "metadata": {
    "slideshow": {
     "slide_type": "notes"
    }
   },
   "source": [
    "You may have heard the term \"regression to the mean\", which astronomers know all about.  It says that whatever place you decide to build your telescope because it has the best weather, won't have the best weather after you build the telescope!"
   ]
  },
  {
   "cell_type": "markdown",
   "metadata": {
    "slideshow": {
     "slide_type": "slide"
    }
   },
   "source": [
    "Let's start by looking at the classic example of fitting a straight line to some data points in 2-D as illustrated by Ivezic, Figure 8.1:\n",
    "\n",
    "![Ivezic, Figure 8.1a](http://www.astroml.org/_images/fig_linreg_inline_1.png)\n",
    "\n",
    "Here we have 4 data points $\\{x_1,x_2,x_3,x_4\\}$ drawn from $y=\\theta_1 x + \\theta_0$, where $\\theta_1 = 1$ and $\\theta_0 = 0$.  Each data point provides a joint constraint on $(\\theta_0,\\theta_1)$.  If there were no uncertainties in the measurement of each $y$, then each new point would yield a straight line constraint in $(\\theta_0,\\theta_1)$ of \n",
    "$\\theta_0 = y_i - \\theta_1 x_i$.  Think about the constraints from the first point.  You could fit an infinite number of lines through it, all of which would completely cover the $(x,y)$ plane, but those lines only make a line in the $(\\theta_0,\\theta_1)$ plane.\n",
    "\n",
    "More data points yield more constraints and the best fit solution would be the intersection of all the lines.  If the measurements have uncertainties associated with them then the lines are linear-shaped distributions as illustrated in the figure below.\n",
    "\n",
    "![Ivezic, Figure 8.1b](http://www.astroml.org/_images/fig_linreg_inline_2.png)\n",
    "\n",
    "Below is the code that makes this plot, where I have made the errors really small so that the constraints are now just lines and I added the 4th $x$ value as a point in addition to being a limit so you can see that the excluded region from the limit just follows the line that would result had it been a detection."
   ]
  },
  {
   "cell_type": "code",
   "execution_count": null,
   "metadata": {
    "collapsed": true,
    "slideshow": {
     "slide_type": "slide"
    }
   },
   "outputs": [],
   "source": [
    "%matplotlib inline\n",
    "# Ivezic, Figure 8.1\n",
    "# Author: Jake VanderPlas\n",
    "# License: BSD\n",
    "#   The figure produced by this code is published in the textbook\n",
    "#   \"Statistics, Data Mining, and Machine Learning in Astronomy\" (2013)\n",
    "#   For more information, see http://astroML.github.com\n",
    "#   To report a bug or issue, use the following forum:\n",
    "#    https://groups.google.com/forum/#!forum/astroml-general\n",
    "import numpy as np\n",
    "from matplotlib import pyplot as plt\n",
    "from astroML.plotting.mcmc import convert_to_stdev\n",
    "\n",
    "#------------------------------------------------------------\n",
    "# Set up the data and errors\n",
    "np.random.seed(13)\n",
    "a = 1\n",
    "b = 0\n",
    "\n",
    "#x = np.array([-1, 0.44, -0.16])\n",
    "x = np.array([-1, 0.44, -0.16, 1.0])\n",
    "y = a * x + b\n",
    "#dy = np.array([0.25, 0.22, 0.2])\n",
    "#dy = np.array([0.01, 0.01, 0.01])\n",
    "dy = np.array([0.01, 0.01, 0.01, 0.01])\n",
    "\n",
    "y = np.random.normal(y, dy)\n",
    "\n",
    "# add a fourth point which is a lower bound\n",
    "x5 = 1.0\n",
    "y5 = a * x5 + b + 0.0 \n",
    "\n",
    "#------------------------------------------------------------\n",
    "# Compute the likelihoods for each point\n",
    "a_range = np.linspace(0, 2, 80)\n",
    "b_range = np.linspace(-1, 1, 80)\n",
    "logL = -((a_range[:, None, None] * x + b_range[None, :, None] - y) / dy) ** 2\n",
    "sigma = [convert_to_stdev(logL[:, :, i]) for i in range(4)]\n",
    "\n",
    "# compute best-fit from first three points\n",
    "logL_together = logL.sum(-1)\n",
    "i, j = np.where(logL_together == np.max(logL_together))\n",
    "amax = a_range[i[0]]\n",
    "bmax = b_range[j[0]]\n",
    "\n",
    "#------------------------------------------------------------\n",
    "# Plot the first figure: the points and errorbars\n",
    "fig1 = plt.figure(figsize=(6, 4))\n",
    "ax1 = fig1.add_subplot(111)\n",
    "\n",
    "# Draw the true and best-fit lines\n",
    "xfit = np.array([-1.5, 1.5])\n",
    "ax1.plot(xfit, a * xfit + b, ':k', label='True fit')\n",
    "ax1.plot(xfit, amax * xfit + bmax, '--k', label='fit to $\\{x_1, x_2, x_3\\}$')\n",
    "\n",
    "ax1.legend(loc=2)\n",
    "\n",
    "ax1.errorbar(x, y, dy, fmt='ok')\n",
    "ax1.errorbar([x5], [y5], [[0.5], [0]], fmt='_k', uplims=True)\n",
    "\n",
    "for i in range(4):\n",
    "    ax1.text(x[i] + 0.05, y[i] - 0.3, \"$x_{%i}$\" % (i + 1))\n",
    "ax1.text(x5 + 0.05, y5 - 0.5, \"$x_4$\")\n",
    "\n",
    "ax1.set_xlabel('$x$')\n",
    "ax1.set_ylabel('$y$')\n",
    "\n",
    "ax1.set_xlim(-1.5, 1.5)\n",
    "ax1.set_ylim(-2, 2)\n",
    "\n",
    "#------------------------------------------------------------\n",
    "# Plot the second figure: likelihoods for each point\n",
    "fig2 = plt.figure(figsize=(6, 6))\n",
    "fig2.subplots_adjust(hspace=0.05, wspace=0.05)\n",
    "\n",
    "# plot likelihood contours\n",
    "for i in range(5):\n",
    "    ax = fig2.add_subplot(321 + i)\n",
    "    for j in range(min(i + 1, 4)):\n",
    "        ax.contourf(a_range, b_range, sigma[j].T,\n",
    "                    levels=(0, 0.683, 0.955, 0.997),\n",
    "                    cmap=plt.cm.binary, alpha=0.5)\n",
    "\n",
    "# plot the excluded area from the fourth point\n",
    "axpb = a_range[:, None] * x5 + b_range[None, :]\n",
    "mask = y5 < axpb\n",
    "fig2.axes[4].fill_between(a_range, y5 - x5 * a_range, 2, color='k', alpha=0.5)\n",
    "\n",
    "# Label and adjust axes\n",
    "for i in range(5):\n",
    "    ax = fig2.axes[i]\n",
    "\n",
    "    ax.text(1.98, -0.98, \"$x_{%i}$\" % (i + 1), ha='right', va='bottom')\n",
    "\n",
    "    ax.plot([0, 2], [0, 0], ':k', lw=1)\n",
    "    ax.plot([1, 1], [-1, 1], ':k', lw=1)\n",
    "\n",
    "    ax.set_xlim(0.001, 2)\n",
    "    ax.set_ylim(-0.999, 1)\n",
    "\n",
    "    if i in (1, 3):\n",
    "        ax.yaxis.set_major_formatter(plt.NullFormatter())\n",
    "    if i in (0, 1):\n",
    "        ax.xaxis.set_major_formatter(plt.NullFormatter())\n",
    "    if i in (0, 2):\n",
    "        ax.set_ylabel(r'$\\theta_0$')\n",
    "    if i in (2, 3):\n",
    "        ax.set_xlabel(r'$\\theta_1$')\n",
    "\n",
    "plt.show()"
   ]
  },
  {
   "cell_type": "markdown",
   "metadata": {
    "slideshow": {
     "slide_type": "slide"
    }
   },
   "source": [
    "## Bayesian Regression\n",
    "If we take a Bayesian approach to regression, then we write the posterior pdf for the model parameters as:\n",
    "\n",
    "$$p(\\theta|\\{x_i, y_i\\},I) \\propto p(\\{x_i,y_i\\} | \\theta, I) \\, p(\\theta, I),$$\n",
    "\n",
    "where $I$ describes the error on the dependent variable.\n",
    "\n",
    "The likelihood for a single data point is given by\n",
    "\n",
    "$$p(y_i|x_i,{\\theta}, I) = e(y_i|y)$$\n",
    "\n",
    "with $e(y_i|y)$ being the probability of getting $y_i$ given the true value of $y$ (i.e. the error distribution). If the error distribution is Gaussian then,\n",
    "\n",
    "$$p(y_i|x_i,{\\theta}, I) = {1 \\over \\sigma_i \\sqrt{2\\pi}} \\, \\exp{\\left({-[y_i-f(x_i|{\\theta})]^2 \\over 2 \\sigma_i^2}\\right)}.$$\n",
    "\n",
    "As discussed earlier in the course, when we add points we multiply the likelihood together to improve the constraints."
   ]
  },
  {
   "cell_type": "markdown",
   "metadata": {
    "slideshow": {
     "slide_type": "slide"
    }
   },
   "source": [
    "## 2-D Linear Regression\n",
    "\n",
    "Let's start with the simplest case: a linear model with independent variable, $x$, and dependent variable, $y$:\n",
    "$$y_i = \\theta_0 + \\theta_1 x_i + \\epsilon_i,$$\n",
    "where $\\theta_0$ and $\\theta_1$ are the coefficients of the model that we are trying to estimate and $\\epsilon_i$ is an additive noise term."
   ]
  },
  {
   "cell_type": "markdown",
   "metadata": {
    "slideshow": {
     "slide_type": "slide"
    }
   },
   "source": [
    "If the uncertainties can be characterized by $\\epsilon_i = \\mathscr{N}(0,\\sigma_i)$, then, following from above, the likelihood is\n",
    "\n",
    "$$p({y_i}|{x_i},{\\theta}, I) = \\prod_{i=1}^N \\left(\\frac{-(y_i- (\\theta_0 + \\theta_1x_{i}))^2}{  2\\sigma_i^2}\\right).$$\n",
    "\n",
    "For linear regression the log likelihood (assuming a flat/uninformative prior) is then\n",
    "\n",
    "$$\\ln \\mathcal(L) \\equiv \\ln(p({\\theta}|\\{x_i, y_i\\},I))  \\propto \\sum_{i=1}^N \\left(\\frac{-(y_i- (\\theta_0 + \\theta_1x_{i}))^2}{  2\\sigma_i^2}\\right).$$\n",
    "\n",
    "Maximizing this expression is the same as minimizing the least squares. "
   ]
  },
  {
   "cell_type": "markdown",
   "metadata": {
    "slideshow": {
     "slide_type": "slide"
    }
   },
   "source": [
    "For so-called \"homoscedastic\" errors (errors that are the same for all points, or rather that the error on the model is the same), this minimization yields to\n",
    "$$\\theta_1 = \\frac{\\sum_i^N x_i y_i - \\bar{x}\\bar{y}}{\\sum_i^N(x_i-\\overline{x})^2},$$\n",
    "and\n",
    "$$\\theta_0 = \\overline{y} - \\theta_1\\overline{x},$$\n",
    "where $\\overline{x}$ and $\\overline{y}$ are the mean values.\n",
    "\n",
    "The estimate of the variance and the standard errors of the estimated parameters are\n",
    "$$\\sigma^2 = \\sum_{i=1}^N (y_i - \\theta_0 + \\theta_1 x_i)^2,$$\n",
    "\n",
    "$$\\sigma_{\\theta_1}^2 = \\sigma^2\\frac{1}{\\sum_i^N(x_i-\\overline{x})^2},$$\n",
    "\n",
    "$$\\sigma_{\\theta_0}^2 = \\sigma^2\\left(\\frac{1}{N} + \\frac{\\overline{x}^2}{\\sum_i^N(x_i-\\overline{x})^2}\\right).$$\n"
   ]
  },
  {
   "cell_type": "markdown",
   "metadata": {
    "slideshow": {
     "slide_type": "slide"
    }
   },
   "source": [
    "If the errors are instead heteroscedastic (error not the same for all points), or just more generally, it is better to think of the problem in matrix notation:\n",
    "$$Y= M \\theta$$\n",
    "\n",
    "$Y$ is an $N$-dimensional vector of values ${y_i}$,\n",
    "$$Y=\\left[\n",
    "\\begin{array}{c}\n",
    "y_0\\\\\n",
    ".\\\\\n",
    "y_{N-1}\n",
    "\\end{array}\n",
    "\\right].\n",
    "$$"
   ]
  },
  {
   "cell_type": "markdown",
   "metadata": {
    "collapsed": true,
    "slideshow": {
     "slide_type": "slide"
    }
   },
   "source": [
    "For the straight line $\\theta$ is simply a two-dimensional\n",
    "vector of regression coefficients,\n",
    "$$\n",
    "\\theta=\\left[\n",
    "\\begin{array}{c}\n",
    "\\theta_0\\\\\n",
    "\\theta_1\n",
    "\\end{array}\n",
    "\\right],\n",
    "$$\n",
    "\n",
    "and $M$ is a called the design matrix\n",
    "$$\n",
    "M=\\left[\n",
    "\\begin{array}{cc}\n",
    "1 & x_0\\\\\n",
    ".&.\\\\\n",
    "1&x_{N-1}\n",
    "\\end{array}\n",
    "\\right],\n",
    "$$\n",
    "\n",
    "where the constant in the first column of $M$ captures the zeropoint in the regression."
   ]
  },
  {
   "cell_type": "markdown",
   "metadata": {
    "slideshow": {
     "slide_type": "slide"
    }
   },
   "source": [
    "For heteroscedastic undertainties we can define a ($N\\times N$) covariance matrix\n",
    "$$C=\\left[\n",
    "\\begin{array}{cccc}\n",
    "\\sigma_{0}^2 & 0 & . & 0 \\\\\n",
    ". & . & . & . \\\\\n",
    "0 & 0 & . & \\sigma_{N-1}^2 \\\\\n",
    "\\end{array}\n",
    "\\right]\n",
    "$$\n",
    "and the maximum likelihood solution for the regression is\n",
    "$$\\theta = (M^T C^{-1} M)^{-1} (M^T C^{-1} Y),$$\n",
    "\n",
    "which minimizes the sum of squares and gives uncertainties on $\\theta$ of \n",
    "$$\\Sigma_\\theta =\n",
    "\\left[\n",
    "\\begin{array}{cc}\n",
    "\\sigma_{\\theta_0}^2 & \\sigma_{\\theta_0\\theta_1} \\\\\n",
    "\\sigma_{\\theta_0\\theta_1} & \\sigma_{\\theta_1}^2\n",
    "\\end{array}\n",
    "\\right]\n",
    "= [M^T C^{-1} M]^{-1}.\n",
    "$$\n",
    "\n",
    "With numpy it is straightforward to develop matrices and, as long as they can be inverted, calculate the  regression coefficients."
   ]
  },
  {
   "cell_type": "markdown",
   "metadata": {
    "slideshow": {
     "slide_type": "slide"
    }
   },
   "source": [
    "Below is the first panel of Figure 8.2, where we have done a straight-line regression to data with a non-linear correlation.  \n",
    "\n",
    "These are redshifts to Supernovae and so-called \"distance moduli\".  Knowing the relationship between these gives us the parameters that describe things like the expansion rate of the Universe.\n",
    "\n",
    "A reminder on nomenclature for Scikit-Learn: $X$ is the multidimensional matrix of $N$ \"objects\", each with $K$ attributes.  $y$ is the dependent variable that represents a continuous \"truth\" value for each of those $N$ objects.  What is new here is that are adding $dy$, which is the uncertainty on $y$.  The fitting algorithms are going to be of the form:\n",
    "\n",
    "```model.fit(X,y,dy)```."
   ]
  },
  {
   "cell_type": "code",
   "execution_count": null,
   "metadata": {
    "collapsed": true,
    "slideshow": {
     "slide_type": "slide"
    }
   },
   "outputs": [],
   "source": [
    "%matplotlib inline\n",
    "import numpy as np\n",
    "from matplotlib import pyplot as plt\n",
    "from scipy.stats import lognorm\n",
    "\n",
    "from astroML.cosmology import Cosmology\n",
    "from astroML.datasets import generate_mu_z\n",
    "from astroML.linear_model import LinearRegression, PolynomialRegression, BasisFunctionRegression, NadarayaWatson\n",
    "\n",
    "#------------------------------------------------------------\n",
    "# Generate data: redshift, distance modulus and error on the distance modulus\n",
    "z_sample, mu_sample, dmu = generate_mu_z(100, random_state=0)\n",
    "\n",
    "cosmo = Cosmology()\n",
    "z = np.linspace(0.01, 2, 1000) # \"x\" values\n",
    "mu_true = np.asarray(map(cosmo.mu, z))  # Ground truth y values\n",
    "\n",
    "n_constraints = 2\n",
    "\n",
    "#------------------------------------------------------------\n",
    "# Plot the results\n",
    "fig = plt.figure(figsize=(6, 6))\n",
    "fig.subplots_adjust(left=0.1, right=0.95, bottom=0.1, top=0.95, hspace=0.05, wspace=0.05)\n",
    "\n",
    "#fit data using the design matrix formalism\n",
    "C = np.identity(len(z_sample))*(dmu*dmu)\n",
    "M = np.column_stack((np.ones(len(z_sample)),z_sample))\n",
    "A = np.dot(np.dot(M.transpose(),np.linalg.pinv(C)),M)\n",
    "B = np.dot(np.dot(M.transpose(),np.linalg.pinv(C)),mu_sample)\n",
    "\n",
    "theta = np.dot(np.linalg.pinv(A),B)\n",
    "mu_out = theta[0] + theta[1]*z \n",
    "\n",
    "#fit data using standard package\n",
    "LRmodel = LinearRegression()\n",
    "LRmodel.fit(z_sample[:, None], mu_sample, dmu)\n",
    "mu_fit = LRmodel.predict(z[:, None])\n",
    "mu_sample_fit = LRmodel.predict(z_sample[:, None])\n",
    "chi2_dof = (np.sum(((mu_sample_fit - mu_sample)/dmu)**2)/(len(mu_sample) - n_constraints))\n",
    "\n",
    "#plot the data\n",
    "ax = fig.add_subplot(111)\n",
    "ax.plot(z, mu_fit, '-k')\n",
    "ax.plot(z, mu_true, '--', c='gray')\n",
    "ax.errorbar(z_sample, mu_sample, dmu, fmt='.k', ecolor='gray', lw=1)\n",
    "\n",
    "ax.text(0.5, 0.05, r\"$\\chi^2_{\\rm dof} = %.2f$\" % chi2_dof,\n",
    "    ha='center', va='bottom', transform=ax.transAxes, fontsize=14)\n",
    "\n",
    "ax.set_xlim(0.01, 1.8)\n",
    "ax.set_ylim(36.01, 48)\n",
    "ax.text(0.05, 0.95, 'Linear regression', ha='left', va='top',\n",
    "                transform=ax.transAxes)\n",
    "\n",
    "ax.set_ylabel(r'$\\mu$')\n",
    "ax.set_xlabel(r'$z$')\n",
    "\n",
    "ax.plot(z, mu_out, '-k', color='red')\n",
    "\n",
    "plt.show()"
   ]
  },
  {
   "cell_type": "markdown",
   "metadata": {
    "slideshow": {
     "slide_type": "slide"
    }
   },
   "source": [
    "Print $C$, $M$, $A$, $B$, and $\\theta$ and make sure that you understand how these are constructed.\n",
    "\n",
    "Then compare `mu_out` to `mu_fit`."
   ]
  },
  {
   "cell_type": "markdown",
   "metadata": {
    "slideshow": {
     "slide_type": "slide"
    }
   },
   "source": [
    "So, what we did was to replace\n",
    "```\n",
    "C = np.identity(len(z_sample))*(dmu*dmu)\n",
    "M = np.column_stack((np.ones(len(z_sample)),z_sample))\n",
    "A = np.dot(np.dot(M.transpose(),np.linalg.pinv(C)),M)\n",
    "B = np.dot(np.dot(M.transpose(),np.linalg.pinv(C)),mu_sample)\n",
    "theta = np.dot(np.linalg.pinv(A),B)\n",
    "mu_out = theta[0] + theta[1]*z \n",
    "```\n",
    "\n",
    "with\n",
    "```\n",
    "LRmodel = LinearRegression()\n",
    "LRmodel.fit(z_sample[:, None], mu_sample, dmu)\n",
    "mu_fit = LRmodel.predict(z[:, None])\n",
    "```"
   ]
  },
  {
   "cell_type": "markdown",
   "metadata": {
    "slideshow": {
     "slide_type": "slide"
    }
   },
   "source": [
    "### A Word of Caution\n",
    "\n",
    "[Anscombe's Quartet](https://en.wikipedia.org/wiki/Anscombe%27s_quartet) is a demonstration of why you should always visualize your data and not just blindly use the parameters of some black-box fitting algorithm.\n",
    "\n",
    "![Anscombe's Quartet](https://upload.wikimedia.org/wikipedia/commons/thumb/e/ec/Anscombe%27s_quartet_3.svg/1000px-Anscombe%27s_quartet_3.svg.png)\n",
    "\n",
    "Each of these data sets has 11 points and basic statistical properties that are identical."
   ]
  },
  {
   "cell_type": "markdown",
   "metadata": {
    "slideshow": {
     "slide_type": "slide"
    }
   },
   "source": [
    "## Multivariate regression\n",
    "\n",
    "In the above cases, we were doing 2-D linear regression with a univariate $X$.  If $X$ is instead multivariate, then we fit a hyperplane rather than a straight line\n",
    "\n",
    "$$y_i =\\theta_0 + \\theta_1x_{i1} + \\theta_2x_{i2} + \\cdots +\\theta_kx_{ik} + \\epsilon_i.$$\n",
    " \n",
    "The design matrix, $M$, is now \n",
    "$$M = \\left(\n",
    "\\begin{array}{ccccccc}\n",
    "1 & x_{01} & x_{02} & . & x_{0k}\\\\\n",
    "1 & x_{11} & x_{12} & . & x_{1k}\\\\\n",
    ". & . & . & .  & . \\\\\n",
    "1 & x_{N1} & x_{N2} & . & x_{Nk}\\\\\n",
    "\\end{array}\n",
    "\\right)$$\n",
    "but the whole formalism is the same as before."
   ]
  },
  {
   "cell_type": "markdown",
   "metadata": {
    "slideshow": {
     "slide_type": "slide"
    }
   },
   "source": [
    "Scikit-Learn obviously has a [`LinearRegression`](http://scikit-learn.org/stable/modules/generated/sklearn.linear_model.LinearRegression.html) routine, but it does not explicitly account for heteroscedastic errors, so above we used the AstroML routine instead as illustrated below."
   ]
  },
  {
   "cell_type": "code",
   "execution_count": 9,
   "metadata": {
    "collapsed": true,
    "slideshow": {
     "slide_type": "slide"
    }
   },
   "outputs": [],
   "source": [
    "import numpy as np\n",
    "from astroML.linear_model import LinearRegression\n",
    "X = np.random.random((100,2)) # 100 points in 2D\n",
    "dy = np.random.random(100) # heteroscedastic errors\n",
    "y = np.random.normal(X[:,0] + X[:,1],dy)\n",
    "model = LinearRegression()\n",
    "model.fit(X,y,dy)\n",
    "y_pred = model.predict(X)"
   ]
  },
  {
   "cell_type": "markdown",
   "metadata": {
    "slideshow": {
     "slide_type": "slide"
    }
   },
   "source": [
    "## Polynomial Regression\n",
    "\n",
    "We introduced regression with examples of linear regression, but we can think of it more generically in terms of [polynomical regression](https://en.wikipedia.org/wiki/Polynomial_regression) with $y=f(x|\\theta)$ and\n",
    "$$y_i =\\theta_0 + \\theta_1 x_{i} + \\theta_2 x_{i}^2 + \\cdots +\\theta_3 x_{i}^3 + \\cdots,$$\n",
    "where linear regression is the simplified case where we just take the first 2 terms.\n",
    " \n",
    "For polynomical regression the design matrix, $M$, is now\n",
    " \n",
    "$$M = \\left(\n",
    "\\begin{array}{cccccc}\n",
    "1 & x_{0} & x_{0}^2 & x_{0}^3\\\\\n",
    "1 & x_{1} & x_{1}^2 & x_{1}^3\\\\\n",
    ". & . & . & . \\\\\n",
    "1 & x_{N} & x_{N}^2 & x_{N}^3\\\\\n",
    "\\end{array}\n",
    "\\right).$$"
   ]
  },
  {
   "cell_type": "markdown",
   "metadata": {
    "slideshow": {
     "slide_type": "slide"
    }
   },
   "source": [
    "As with linear regression, we'll use PolynomialRegression from AstroML."
   ]
  },
  {
   "cell_type": "code",
   "execution_count": 35,
   "metadata": {
    "collapsed": true,
    "slideshow": {
     "slide_type": "slide"
    }
   },
   "outputs": [],
   "source": [
    "#Typical call\n",
    "import numpy as np\n",
    "from astroML.linear_model import PolynomialRegression\n",
    "X = np.random.random((100,2))\n",
    "y = X[:,0]**2 + X[:,1]**3\n",
    "order = 4\n",
    "model = PolynomialRegression(order) # fit 3rd order polynomial\n",
    "model.fit(X,y)\n",
    "y_pred = model.predict(X)\n",
    "n_constraints = order+1"
   ]
  },
  {
   "cell_type": "markdown",
   "metadata": {
    "slideshow": {
     "slide_type": "slide"
    }
   },
   "source": [
    "Recreate the supernovae figure from above now using the polynomial regression algorithm.  (Hint: Don't overthink it.)"
   ]
  },
  {
   "cell_type": "code",
   "execution_count": null,
   "metadata": {
    "collapsed": true,
    "slideshow": {
     "slide_type": "slide"
    }
   },
   "outputs": [],
   "source": [
    "#fit data using standard package\n",
    "order = # Complete\n",
    "n_constraints = order+1\n",
    "poly = PolynomialRegression( # Complete\n",
    "poly.fit(# Complete\n",
    "# Complete the rest\n",
    "\n",
    "fig = plt.figure(figsize=(6, 6))\n",
    "\n",
    "#plot the data\n",
    "ax = fig.add_subplot(111)\n",
    "ax.plot(z, mu_fit, '-k')\n",
    "ax.plot(z, mu_true, '--', c='gray')\n",
    "ax.errorbar(z_sample, mu_sample, dmu, fmt='.k', ecolor='gray', lw=1)\n",
    "\n",
    "ax.text(0.5, 0.05, r\"$\\chi^2_{\\rm dof} = %.2f$\" % chi2_dof,\n",
    "    ha='center', va='bottom', transform=ax.transAxes, fontsize=14)\n",
    "\n",
    "ax.set_xlim(0.01, 1.8)\n",
    "ax.set_ylim(36.01, 48)\n",
    "ax.text(0.05, 0.95, 'Polynomial regression', ha='left', va='top',\n",
    "                transform=ax.transAxes)\n",
    "\n",
    "ax.set_ylabel(r'$\\mu$')\n",
    "ax.set_xlabel(r'$z$')\n",
    "\n",
    "ax.plot(z, mu_out, '-k', color='red')\n",
    "\n",
    "plt.show()"
   ]
  },
  {
   "cell_type": "code",
   "execution_count": null,
   "metadata": {
    "collapsed": true,
    "slideshow": {
     "slide_type": "slide"
    }
   },
   "outputs": [],
   "source": [
    "Can you make the same code do linear regression?"
   ]
  },
  {
   "cell_type": "markdown",
   "metadata": {
    "slideshow": {
     "slide_type": "slide"
    }
   },
   "source": [
    "## Basis function regression\n",
    "\n",
    "If we consider a function in terms of the sum of bases (this can be polynomials, Gaussians, quadratics, cubics) then we can solve for the coefficients using regression. Above we have used polynomials,  but we could substitute $x_{0}^2$ etc for Gaussians (where we fix $\\sigma$ and $\\mu$ and fit for the amplitude) as long as the attribute we are fitting for is linear.  So if linear regression is just a special case of polynomial regression, then polynomial regression is just a special case of basis function regression."
   ]
  },
  {
   "cell_type": "code",
   "execution_count": 31,
   "metadata": {
    "collapsed": false,
    "slideshow": {
     "slide_type": "slide"
    }
   },
   "outputs": [],
   "source": [
    "#Basis function regression looks like this\n",
    "import numpy as np\n",
    "from astroML.linear_model import BasisFunctionRegression\n",
    "X = np.random.random((100,1))\n",
    "y = np.random.normal(X[:,0],dy)\n",
    "mu = np.linspace(0,1,10)[:, None]\n",
    "sigma = 0.1\n",
    "model = BasisFunctionRegression('gaussian', mu=mu, sigma=sigma)\n",
    "model.fit(X,y,dy)\n",
    "y_pred = model.predict(X)"
   ]
  },
  {
   "cell_type": "markdown",
   "metadata": {
    "slideshow": {
     "slide_type": "slide"
    }
   },
   "source": [
    "We'll now repeat the supernova data example using basis function regression."
   ]
  },
  {
   "cell_type": "code",
   "execution_count": null,
   "metadata": {
    "collapsed": true,
    "slideshow": {
     "slide_type": "slide"
    }
   },
   "outputs": [],
   "source": [
    "#------------------------------------------------------------\n",
    "# Define our Gaussians\n",
    "nGaussians = 10\n",
    "basis_mu = np.linspace(0,2,nGaussians)[:, None]\n",
    "basis_sigma = 1.0 * (basis_mu[1] - basis_mu[0])\n",
    "n_constraints = nGaussians+1\n",
    "\n",
    "#fit data using gaussian-based basis function regression\n",
    "bfr = BasisFunctionRegression('gaussian', mu=basis_mu, sigma=basis_sigma)\n",
    "bfr.fit(z_sample[:, None], mu_sample, dmu)\n",
    "mu_fit = bfr.predict(z[:, None])\n",
    "mu_sample_fit = bfr.predict(z_sample[:, None])\n",
    "chi2_dof = (np.sum(((mu_sample_fit - mu_sample) / dmu) ** 2) / (len(mu_sample) - n_constraints))\n",
    "\n",
    "#------------------------------------------------------------\n",
    "# Plot the results\n",
    "fig = plt.figure(figsize=(6, 6))\n",
    "\n",
    "ax = fig.add_subplot(111)\n",
    "\n",
    "ax.plot(z, mu_fit, '-k')\n",
    "ax.plot(z, mu_true, '--', c='gray')\n",
    "ax.errorbar(z_sample, mu_sample, dmu, fmt='.k', ecolor='gray', lw=1)\n",
    "\n",
    "ax.text(0.5, 0.05, r\"$\\chi^2_{\\rm dof} = %.2f$\" % chi2_dof,\n",
    "    ha='center', va='bottom', transform=ax.transAxes, fontsize=14)\n",
    "\n",
    "ax.set_xlim(0.01, 1.8)\n",
    "ax.set_ylim(36.01, 48)\n",
    "ax.text(0.05, 0.95, 'Basis Function regression', ha='left', va='top',\n",
    "                transform=ax.transAxes)\n",
    "\n",
    "ax.set_ylabel(r'$\\mu$')\n",
    "ax.set_xlabel(r'$z$')\n",
    "\n",
    "#ax.plot(z, mu_out, '-k', color='red')\n",
    "plt.show()"
   ]
  },
  {
   "cell_type": "code",
   "execution_count": null,
   "metadata": {
    "collapsed": true,
    "slideshow": {
     "slide_type": "slide"
    }
   },
   "outputs": [],
   "source": [
    "# Do it by hand so that we can overplot the Gaussians\n",
    "\n",
    "def gaussian_basis(x, mu, sigma):\n",
    "    return np.exp(-0.5 * ((x - mu) / sigma) ** 2)\n",
    "\n",
    "#------------------------------------------------------------\n",
    "M = np.zeros(shape=[nGaussians, z_sample.shape[0]])\n",
    "for i in range(nGaussians):\n",
    "    M[i] = gaussian_basis(z_sample, basis_mu[i], basis_sigma)\n",
    "\n",
    "M = np.matrix(M).T\n",
    "C = np.matrix(np.diagflat(dmu**2))\n",
    "Y = np.matrix(mu_sample).T\n",
    "coeff = (M.T * C.I * M).I * (M.T * C.I * Y)\n",
    "\n",
    "#------------------------------------------------------------\n",
    "# Plot the results\n",
    "fig = plt.figure(figsize=(6, 6))\n",
    "fig.subplots_adjust(left=0.1, right=0.95, bottom=0.1, top=0.95, hspace=0.05, wspace=0.05)\n",
    "\n",
    "ax = fig.add_subplot(111)\n",
    "\n",
    "# Plot the gaussians and their sum\n",
    "i=0\n",
    "mu_fit = np.zeros(len(z))   \n",
    "for i in range(nGaussians):\n",
    "    mu_fit += coeff[i,0]*gaussian_basis(z, basis_mu[i], basis_sigma)\n",
    "    if (coeff[i,0] > 0.):\n",
    "        ax.plot(z,coeff[i,0]*gaussian_basis(z, basis_mu[i], basis_sigma),color='blue')\n",
    "    else:\n",
    "        ax.plot(z,-coeff[i,0]*gaussian_basis(z, basis_mu[i], basis_sigma),color='blue',ls='--')\n",
    "\n",
    "#plot the data\n",
    "ax.plot(z, mu_fit, '-k')\n",
    "ax.plot(z, mu_true, '--', c='gray')\n",
    "ax.errorbar(z_sample, mu_sample, dmu, fmt='.k', ecolor='gray', lw=1)\n",
    "\n",
    "ax.text(0.5, 0.05, r\"$\\chi^2_{\\rm dof} = %.2f$\" % chi2_dof,\n",
    "    ha='center', va='bottom', transform=ax.transAxes, fontsize=14)\n",
    "\n",
    "ax.set_xlim(0.01, 1.8)\n",
    "ax.set_ylim(0.01, 48)\n",
    "ax.text(0.05, 0.95, 'Basis Function regression', ha='left', va='top',\n",
    "                transform=ax.transAxes)\n",
    "\n",
    "ax.set_ylabel(r'$\\mu$')\n",
    "ax.set_xlabel(r'$z$')\n",
    "\n",
    "#ax.plot(z, mu_out, '-k', color='red')\n",
    "plt.show()"
   ]
  },
  {
   "cell_type": "code",
   "execution_count": null,
   "metadata": {
    "collapsed": true,
    "slideshow": {
     "slide_type": "slide"
    }
   },
   "outputs": [],
   "source": [
    "# GTR: Hacked the above to make the basis a polynomial just to show\n",
    "# that polynomial regression is a special case of basis function regression\n",
    "\n",
    "#------------------------------------------------------------\n",
    "# Define our \"Gaussians\" (order or polynomial in this case)\n",
    "nGaussians = 4\n",
    "basis_mu = np.linspace(0,2,nGaussians)[:, None]\n",
    "basis_sigma = 1.0 * (basis_mu[1] - basis_mu[0])\n",
    "n_constraints = nGaussians+1\n",
    "\n",
    "def gaussian_basis(n, x, mu, sigma):\n",
    "    return x**n\n",
    "\n",
    "#------------------------------------------------------------\n",
    "M = np.zeros(shape=[nGaussians, z_sample.shape[0]])\n",
    "for i in range(nGaussians):\n",
    "    M[i] = gaussian_basis(i, z_sample, basis_mu[i], basis_sigma)\n",
    "\n",
    "M = np.matrix(M).T\n",
    "C = np.matrix(np.diagflat(dmu**2))\n",
    "Y = np.matrix(mu_sample).T\n",
    "coeff = (M.T * C.I * M).I * (M.T * C.I * Y)\n",
    "\n",
    "#------------------------------------------------------------\n",
    "# Plot the results\n",
    "fig = plt.figure(figsize=(6, 6))\n",
    "fig.subplots_adjust(left=0.1, right=0.95, bottom=0.1, top=0.95, hspace=0.05, wspace=0.05)\n",
    "\n",
    "ax = fig.add_subplot(111)\n",
    "\n",
    "# Plot the gaussians and their sum\n",
    "i=0\n",
    "mu_fit = np.zeros(len(z))   \n",
    "for i in range(nGaussians):\n",
    "    mu_fit += coeff[i,0]*gaussian_basis(i,z, basis_mu[i], basis_sigma)\n",
    "    if (coeff[i,0] > 0.):\n",
    "        ax.plot(z,coeff[i,0]*gaussian_basis(i,z, basis_mu[i], basis_sigma),color='blue')\n",
    "    else:\n",
    "        ax.plot(z,-coeff[i,0]*gaussian_basis(i,z, basis_mu[i], basis_sigma),color='blue',ls='--')\n",
    "\n",
    "#plot the data\n",
    "ax.plot(z, mu_fit, '-k')\n",
    "ax.plot(z, mu_true, '--', c='gray')\n",
    "ax.errorbar(z_sample, mu_sample, dmu, fmt='.k', ecolor='gray', lw=1)\n",
    "\n",
    "ax.text(0.5, 0.05, r\"$\\chi^2_{\\rm dof} = %.2f$\" % chi2_dof,\n",
    "    ha='center', va='bottom', transform=ax.transAxes, fontsize=14)\n",
    "\n",
    "ax.set_xlim(0.01, 1.8)\n",
    "ax.set_ylim(0.01, 48)\n",
    "ax.text(0.05, 0.95, 'Basis Function regression', ha='left', va='top',\n",
    "                transform=ax.transAxes)\n",
    "\n",
    "ax.set_ylabel(r'$\\mu$')\n",
    "ax.set_xlabel(r'$z$')\n",
    "\n",
    "#ax.plot(z, mu_out, '-k', color='red')\n",
    "plt.show()"
   ]
  },
  {
   "cell_type": "markdown",
   "metadata": {
    "slideshow": {
     "slide_type": "slide"
    }
   },
   "source": [
    "## Kernel Regression\n",
    "\n",
    "In the case of Gaussian Basis Regression, if you think about it, we were back to the old problem of making a histogram.  Specifically, our Gaussians were evenly spaced over the range of interest.   If we instead placed Gaussians at the location of every data point, we get Gaussian Kernel Regression instead.  Or just [Kernel Regression](https://en.wikipedia.org/wiki/Kernel_regression) more generally since we don't *have* to have a Gaussian kernel function.  It is also called Nadaraya-Watson regression.\n"
   ]
  },
  {
   "cell_type": "markdown",
   "metadata": {
    "slideshow": {
     "slide_type": "slide"
    }
   },
   "source": [
    "Given a kernel $K(x_i,x)$ (e.g. a Gaussian or top-hat) at each point we estimate the function value by\n",
    "\n",
    "$$f(x|K) = \\frac{\\sum_{i=1}^N K\\left( \\frac{||x_i-x||}{h} \\right) y_i}\n",
    "{\\sum_{i=1}^N K\\left( \\frac{||x_i-x||}{h} \\right)}$$\n",
    "\n",
    "a weighted average of $y$ (weighted by distance) with\n",
    "\n",
    "$$w_i(x) = \\frac{ K\\left( \\frac{||x_i-x||}{h} \\right)}\n",
    "{\\sum_{i=1}^N K\\left( \\frac{||x_i-x||}{h} \\right)}$$\n",
    "\n",
    "This locally weighted regression technique drives the regressed value to the nearest neighbor (when we have few points) which helps with extrapolation issues.  As we saw with KDE, defining the correct bandwidth of the kernel is more important than the shape of the kernel itself and is done through cross-validation, which we'll talk about next time.\n",
    "\n",
    "Nadaraya-Watson is implemented in AstroML as follows:"
   ]
  },
  {
   "cell_type": "code",
   "execution_count": 10,
   "metadata": {
    "collapsed": true,
    "slideshow": {
     "slide_type": "slide"
    }
   },
   "outputs": [],
   "source": [
    "import numpy as np\n",
    "from astroML.linear_model import NadarayaWatson\n",
    "X = np.random.random((100,2))\n",
    "y = X[:,0] + X[:,1]\n",
    "model = NadarayaWatson('gaussian', 0.05)\n",
    "model.fit(X,y)\n",
    "y_pred = model.predict(X)"
   ]
  },
  {
   "cell_type": "code",
   "execution_count": null,
   "metadata": {
    "collapsed": true,
    "slideshow": {
     "slide_type": "slide"
    }
   },
   "outputs": [],
   "source": [
    "Using Nadaraya-Watson on our supernova data looks like this:"
   ]
  },
  {
   "cell_type": "code",
   "execution_count": null,
   "metadata": {
    "collapsed": true,
    "slideshow": {
     "slide_type": "slide"
    }
   },
   "outputs": [],
   "source": [
    "%matplotlib inline\n",
    "import numpy as np\n",
    "from matplotlib import pyplot as plt\n",
    "from scipy.stats import lognorm\n",
    "\n",
    "from astroML.cosmology import Cosmology\n",
    "from astroML.datasets import generate_mu_z\n",
    "from astroML.linear_model import NadarayaWatson\n",
    "\n",
    "#------------------------------------------------------------\n",
    "# Generate data\n",
    "z_sample, mu_sample, dmu = generate_mu_z(100, random_state=0)\n",
    "\n",
    "cosmo = Cosmology()\n",
    "z = np.linspace(0.01, 2, 1000)\n",
    "mu_true = np.asarray(map(cosmo.mu, z))\n",
    "\n",
    "n_constraints = 1\n",
    "\n",
    "#------------------------------------------------------------\n",
    "# Plot the results\n",
    "fig = plt.figure(figsize=(6, 6))\n",
    "\n",
    "ax = fig.add_subplot(111)\n",
    "\n",
    "#fit data using standard package\n",
    "nwreg = NadarayaWatson('gaussian', 0.05)\n",
    "nwreg.fit(z_sample[:, None], mu_sample)\n",
    "mu_sample_fit = nwreg.predict(z_sample[:, None])\n",
    "mu_fit = nwreg.predict(z[:, None])\n",
    "chi2_dof = (np.sum(((mu_sample_fit - mu_sample) / dmu) ** 2)/(len(mu_sample) - n_constraints))\n",
    "\n",
    "\n",
    "#plot the data\n",
    "ax.plot(z, mu_fit, '-k')\n",
    "ax.plot(z, mu_true, '--', c='gray')\n",
    "ax.errorbar(z_sample, mu_sample, dmu, fmt='.k', ecolor='gray', lw=1)\n",
    "\n",
    "ax.text(0.5, 0.05, r\"$\\chi^2_{\\rm dof} = %.2f$\" % chi2_dof,\n",
    "    ha='center', va='bottom', transform=ax.transAxes, fontsize=14)\n",
    "\n",
    "ax.set_xlim(0.01, 1.8)\n",
    "ax.set_ylim(36.01, 48)\n",
    "ax.text(0.05, 0.95, 'Nadaraya-Watson', ha='left', va='top',\n",
    "                transform=ax.transAxes)\n",
    "\n",
    "ax.set_ylabel(r'$\\mu$')\n",
    "ax.set_xlabel(r'$z$')\n",
    "\n",
    "#ax.plot(z, mu_out, '-k', color='red')\n",
    "\n",
    "plt.show()"
   ]
  },
  {
   "cell_type": "markdown",
   "metadata": {
    "slideshow": {
     "slide_type": "slide"
    }
   },
   "source": [
    "## Regularization\n",
    "\n",
    "We have to be a little careful when doing regression because if we progressively increase the number of terms in the fit we reach a regime where we are overfitting the data (i.e. there are not enough degrees of freedom).\n",
    "\n",
    "For example, let's look at an example of Polynomial Regression.  "
   ]
  },
  {
   "cell_type": "code",
   "execution_count": null,
   "metadata": {
    "collapsed": true,
    "slideshow": {
     "slide_type": "slide"
    }
   },
   "outputs": [],
   "source": [
    "%matplotlib inline\n",
    "import numpy as np\n",
    "import matplotlib.pyplot as plt\n",
    "from astroML.linear_model import PolynomialRegression\n",
    "\n",
    "def f(x):\n",
    "    \"\"\" function to approximate by polynomial interpolation\"\"\"\n",
    "    return np.sin(x)\n",
    "\n",
    "# generate points used to plot\n",
    "x_plot = np.linspace(0, 8, 100)\n",
    "\n",
    "# generate points and keep a subset of them\n",
    "x = np.linspace(0, 8, 10)\n",
    "#rng = np.random.RandomState(0)\n",
    "#rng.shuffle(x)\n",
    "#x = np.sort(x[:10])\n",
    "y = f(x)+0.25*(np.random.random(len(x))-0.5)\n",
    "\n",
    "# create matrix versions of these arrays\n",
    "X = x[:, None]\n",
    "X_plot = x_plot[:, None]\n",
    "\n",
    "colors = ['teal', 'yellowgreen', 'gold']\n",
    "lw = 2\n",
    "plt.figure(figsize=(8,8))\n",
    "plt.plot(x_plot, f(x_plot), color='cornflowerblue', linewidth=lw, label=\"ground truth\")\n",
    "plt.scatter(x, y, color='navy', s=30, marker='o', label=\"training points\")\n",
    "\n",
    "for count, degree in enumerate([3,4,5]):\n",
    "    poly = PolynomialRegression(degree)\n",
    "    poly.fit(X,y)\n",
    "    y_plot = poly.predict(X_plot)\n",
    "\n",
    "    plt.plot(x_plot, y_plot, color=colors[count], linewidth=lw, label=\"degree %d\" % degree)\n",
    "\n",
    "plt.legend(loc='lower left')\n",
    "\n",
    "plt.show()"
   ]
  },
  {
   "cell_type": "markdown",
   "metadata": {
    "slideshow": {
     "slide_type": "slide"
    }
   },
   "source": [
    "This is fit with order = 3, 4, and 5.  What happens if you make the order $\\sim N_{\\rm points}$?"
   ]
  },
  {
   "cell_type": "markdown",
   "metadata": {
    "slideshow": {
     "slide_type": "slide"
    }
   },
   "source": [
    "In this case we are clearly overfitting the data.  For cases where we are concerned with overfitting, instead of computing \n",
    "\n",
    "$$(Y - M \\theta)^T(Y- M \\theta),$$\n",
    "\n",
    "we can apply constraints (usually of smoothness, number of coefficients, size of coefficients):\n",
    "\n",
    "$$(Y - M \\theta)^T(Y- M \\theta) + \\lambda |\\theta^T \\theta|,$$\n",
    "\n",
    "with $\\lambda$ as the regularization parameter."
   ]
  },
  {
   "cell_type": "markdown",
   "metadata": {
    "slideshow": {
     "slide_type": "slide"
    }
   },
   "source": [
    "This leads to a solution for the parameters of the model\n",
    "\n",
    "$$\\theta = (M^T C^{-1} M + \\lambda I)^{-1} (M^T C^{-1} Y)$$\n",
    "\n",
    "with $I$ the identity matrix.\n",
    "\n",
    "From the Bayesian perspective this is the same as applying a prior to the regression coefficients:\n",
    "\n",
    "$$p(\\theta | I ) \\propto \\exp{\\left(\\frac{-(\\lambda \\theta^T \\theta)}{2}\\right)}$$\n",
    "\n",
    "which, when multiplied by the likelihood for regression, gives the same posterior as described above."
   ]
  },
  {
   "cell_type": "markdown",
   "metadata": {
    "slideshow": {
     "slide_type": "slide"
    }
   },
   "source": [
    "## Ridge regression \n",
    "\n",
    "The case for a Gaussian prior corresponds to [Ridge Regression](https://en.wikipedia.org/wiki/Tikhonov_regularization), which\n",
    "penalizes the regression coefficients according to\n",
    "\n",
    "$$ |\\theta |^2 < s.$$\n",
    "\n",
    "That is the square of each parameter in the fitting is restricted to be less than some value, $s$.  We'll come back to exactly what $s$ is in a minute.  Doing this supresses large coefficients and limits the variance of the system---at the cost of increased bias.\n",
    "\n",
    "The following figure illustrates the interaction of the prior and the posterior without the prior:\n",
    "![Ivezic, Figure 8.3](http://www.astroml.org/_images/fig_lasso_ridge_1.png)\n",
    "\n",
    "Scikit-Learn's [`Ridge`](http://scikit-learn.org/stable/modules/generated/sklearn.linear_model.Ridge.html) is their implementation of ridge regression, while AstroML implements Ridge Regression as follows:"
   ]
  },
  {
   "cell_type": "code",
   "execution_count": 18,
   "metadata": {
    "collapsed": true,
    "slideshow": {
     "slide_type": "slide"
    }
   },
   "outputs": [],
   "source": [
    "import numpy as np\n",
    "from sklearn.linear_model import Ridge\n",
    "X = np.random.random((100,10))\n",
    "y = np.dot(X, np.random.random(10))\n",
    "model = Ridge(alpha=0.05)\n",
    "model.fit(X,y)\n",
    "y_pred = model.predict(X)"
   ]
  },
  {
   "cell_type": "markdown",
   "metadata": {
    "slideshow": {
     "slide_type": "slide"
    }
   },
   "source": [
    "The following examples compares Gaussian Basis Regression with and without the constraints from Ridge Regression.  It uses 100 evenly spaced Gauassian, which we can see strongly overfits the problem and has very large coefficient values, until a constraint is imposed."
   ]
  },
  {
   "cell_type": "code",
   "execution_count": null,
   "metadata": {
    "collapsed": true,
    "slideshow": {
     "slide_type": "slide"
    }
   },
   "outputs": [],
   "source": [
    "# Author: Jake VanderPlas\n",
    "# License: BSD\n",
    "#   The figure produced by this code is published in the textbook\n",
    "#   \"Statistics, Data Mining, and Machine Learning in Astronomy\" (2013)\n",
    "#   For more information, see http://astroML.github.com\n",
    "#   To report a bug or issue, use the following forum:\n",
    "#    https://groups.google.com/forum/#!forum/astroml-general\n",
    "import numpy as np\n",
    "from matplotlib import pyplot as plt\n",
    "from scipy.stats import lognorm\n",
    "\n",
    "from sklearn.linear_model import LinearRegression, Ridge\n",
    "\n",
    "from astroML.cosmology import Cosmology\n",
    "from astroML.datasets import generate_mu_z\n",
    "\n",
    "#----------------------------------------------------------------------\n",
    "# generate data\n",
    "np.random.seed(0)\n",
    "z_sample, mu_sample, dmu = generate_mu_z(100, random_state=0)\n",
    "cosmo = Cosmology()\n",
    "z = np.linspace(0.01, 2, 1000)\n",
    "mu = np.asarray(map(cosmo.mu, z))\n",
    "\n",
    "#------------------------------------------------------------\n",
    "# Manually convert data to a gaussian basis\n",
    "#  note that we're ignoring errors here, for the sake of example.\n",
    "def gaussian_basis(x, mu, sigma):\n",
    "    return np.exp(-0.5 * ((x - mu) / sigma) ** 2)\n",
    "\n",
    "centers = np.linspace(0, 1.8, 100)\n",
    "widths = 0.2\n",
    "X = gaussian_basis(z_sample[:, None], centers, widths)\n",
    "\n",
    "#------------------------------------------------------------\n",
    "# Set up the figure to plot the results\n",
    "fig = plt.figure(figsize=(12, 8))\n",
    "\n",
    "classifier = [LinearRegression, Ridge]\n",
    "kwargs = [dict(), dict(alpha=0.005)]\n",
    "labels = ['Gaussian Basis Regression', 'Ridge Regression']\n",
    "\n",
    "for i in range(2):\n",
    "    clf = classifier[i](fit_intercept=True, **kwargs[i])\n",
    "    clf.fit(X, mu_sample)\n",
    "    w = clf.coef_\n",
    "    fit = clf.predict(gaussian_basis(z[:, None], centers, widths))\n",
    "\n",
    "    # plot fit\n",
    "    ax = fig.add_subplot(221 + i)\n",
    "    ax.xaxis.set_major_formatter(plt.NullFormatter())\n",
    "\n",
    "    # plot curves for regularized fits\n",
    "    if i == 0:\n",
    "        ax.set_ylabel('$\\mu$')\n",
    "    else:\n",
    "        ax.yaxis.set_major_formatter(plt.NullFormatter())\n",
    "        curves = 37 + w * gaussian_basis(z[:, np.newaxis], centers, widths)\n",
    "        curves = curves[:, abs(w) > 0.01]\n",
    "        ax.plot(z, curves,\n",
    "                c='gray', lw=1, alpha=0.5)\n",
    "\n",
    "    ax.plot(z, fit, '-k')\n",
    "    ax.plot(z, mu, '--', c='gray')\n",
    "    ax.errorbar(z_sample, mu_sample, dmu, fmt='.k', ecolor='gray', lw=1, ms=4)\n",
    "    ax.set_xlim(0.001, 1.8)\n",
    "    ax.set_ylim(36, 52)\n",
    "    ax.text(0.05, 0.93, labels[i],\n",
    "            ha='left', va='top',\n",
    "            bbox=dict(boxstyle='round', ec='k', fc='w'),\n",
    "            transform=ax.transAxes)\n",
    "\n",
    "    # plot weights\n",
    "    ax = plt.subplot(223 + i)\n",
    "    ax.xaxis.set_major_locator(plt.MultipleLocator(0.5))\n",
    "    ax.set_xlabel('$z$')\n",
    "    if i == 0:\n",
    "        ax.set_ylabel(r'$\\theta$')\n",
    "        w *= 1E-12\n",
    "        ax.text(0, 1.01, r'$\\rm \\times 10^{12}$',\n",
    "                transform=ax.transAxes)\n",
    "    ax.scatter(centers, w, s=9, lw=0, c='k')\n",
    "\n",
    "    ax.set_xlim(-0.05, 1.8)\n",
    "\n",
    "    if i == 1:\n",
    "        ax.set_ylim(-2, 4)\n",
    "    elif i == 2:\n",
    "        ax.set_ylim(-0.5, 2)\n",
    "\n",
    "    ax.text(0.05, 0.93, labels[i],\n",
    "            ha='left', va='top',\n",
    "            bbox=dict(boxstyle='round', ec='k', fc='w'),\n",
    "            transform=ax.transAxes)\n",
    "\n",
    "plt.show()"
   ]
  },
  {
   "cell_type": "markdown",
   "metadata": {
    "slideshow": {
     "slide_type": "slide"
    }
   },
   "source": [
    "## Least absolute shrinkage and selection (LASSO) regularization\n",
    "\n",
    "An alternative to Ridge Regression is LASSO, which implies the following contraint\n",
    "\n",
    "$$(Y - M \\theta)^T(Y- M \\theta) + \\lambda |\\theta|.$$\n",
    "\n",
    "This is equivalent to least-squares minimization with \n",
    "$$ |\\theta | < s,$$\n",
    "that is, the penalty is on the absolute values of the regression coefficients, which is also illustrated in Ivezic, Figure 8.3 as shown above.\n",
    "\n",
    "It not only weights the regression coefficients, it also imposes sparsity on the regression\n",
    "model (i.e. the penalty preferentially selects regions of likelihood space that coincide with one of the vertices within the region defined by the regularization).\n",
    "\n",
    "This has the effect of setting one (or more) of the model attributes to zero.  \n",
    "\n",
    "[Scikit-Learn's `LASSO`](http://scikit-learn.org/stable/modules/generated/sklearn.linear_model.Lasso.html#sklearn.linear_model.Lasso) is implemented as follows:"
   ]
  },
  {
   "cell_type": "code",
   "execution_count": 20,
   "metadata": {
    "collapsed": true,
    "slideshow": {
     "slide_type": "slide"
    }
   },
   "outputs": [],
   "source": [
    "import numpy as np\n",
    "from sklearn.linear_model import Lasso\n",
    "XX = np.random.random((100,10))\n",
    "yy = np.dot(XX, np.random.random(10))\n",
    "model = Lasso(alpha = 0.05)\n",
    "model.fit(XX,yy)\n",
    "y_pred = model.predict(XX)"
   ]
  },
  {
   "cell_type": "markdown",
   "metadata": {
    "slideshow": {
     "slide_type": "slide"
    }
   },
   "source": [
    "Modify the code above to replace Ridge regression with Lasso regression.  Experiment with different values of the regularization parameter.\n",
    "\n",
    "N.B.  $\\lambda$ in the book is related to $\\alpha$ in these examples, but I'm not sure if they are identical."
   ]
  },
  {
   "cell_type": "markdown",
   "metadata": {
    "slideshow": {
     "slide_type": "slide"
    }
   },
   "source": [
    "Did you try `alpha=0`?  If not, go ahead and do that.  "
   ]
  },
  {
   "cell_type": "markdown",
   "metadata": {
    "slideshow": {
     "slide_type": "slide"
    }
   },
   "source": [
    "Are you totally confused?  Me too.  Don't worry, it is much simpler than it seems.  I found [Hastie](http://statweb.stanford.edu/~tibs/ElemStatLearn/index.html) to be helpful in sorting this out. \n",
    "\n",
    "They write the constraint term as \n",
    "$$\\lambda \\sum_{j=1}^p |\\theta_j|^q,$$\n",
    "which allows us to see that Ridge regression corresponds to $q=2$, while LASSO regression corresponds to $q=1$.  So, they are really the same thing: Bayes estimates with different priors.   The wildly different names are just a nuisance."
   ]
  },
  {
   "cell_type": "markdown",
   "metadata": {
    "slideshow": {
     "slide_type": "slide"
    }
   },
   "source": [
    "Now let's see if we can understand what is going on in Ivezic, Figure 8.3.\n",
    "\n",
    "Think of $s$ as a normalized distance where $s=1$ corresponds to there being no constraint on $\\theta_i$.  Requiring $s<1$ limits the magnitude of $\\theta_i$.  So, in this figure\n",
    "![Ivezic, Figure 8.3](http://www.astroml.org/_images/fig_lasso_ridge_1.png)\n",
    "$s=1$ would make the circle/diamond big enough to include what they call $\\theta_{\\rm normal}$.  \n",
    "\n",
    "It isn't obvious to me, but I guess that the $\\theta_i$ are normalized such that the contraint region is symmetric.  \n",
    "\n",
    "Shrinking $s$ has the effect of adding a prior that moves the best-fit parameters to the intersection of the two sets of contours.  The difference between Ridge and LASSO is just the shape of the constrain region.  For LASSO, the shape is such that some of the parameters may end up being 0.  \n",
    "\n",
    "Figures 3.8 (page 84 of the [Hastie PDF](http://statweb.stanford.edu/~tibs/ElemStatLearn/index.html)), 3.10 (page 89), and 3.12 (page 91) may be helpful."
   ]
  },
  {
   "cell_type": "markdown",
   "metadata": {
    "slideshow": {
     "slide_type": "slide"
    }
   },
   "source": [
    "### How do we choose $\\lambda$?\n",
    "\n",
    "Use cross-validation (coming up later).\n",
    "\n",
    "\n",
    "\n"
   ]
  }
 ],
 "metadata": {
  "anaconda-cloud": {},
  "celltoolbar": "Slideshow",
  "kernelspec": {
   "display_name": "Python [Root]",
   "language": "python",
   "name": "Python [Root]"
  },
  "language_info": {
   "codemirror_mode": {
    "name": "ipython",
    "version": 2
   },
   "file_extension": ".py",
   "mimetype": "text/x-python",
   "name": "python",
   "nbconvert_exporter": "python",
   "pygments_lexer": "ipython2",
   "version": "2.7.12"
  }
 },
 "nbformat": 4,
 "nbformat_minor": 0
}
