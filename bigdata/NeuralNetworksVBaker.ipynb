{
 "cells": [
  {
   "cell_type": "markdown",
   "metadata": {
    "nbpresent": {
     "id": "381656e7-7071-4f30-8d24-5c50925acedd"
    },
    "slideshow": {
     "slide_type": "slide"
    }
   },
   "source": [
    "# Neural Networks\n",
    "\n",
    "G. Richards (2016), where I found this video series particularly helpful in trying to simplify the explanation https://www.youtube.com/watch?v=bxe2T-V8XRs.\n",
    "\n",
    "Updates from V. Baker, leaning heavily on Thomas Trappenberg's Fundamentals of Computational Neuroscience(https://web.cs.dal.ca/~tt/fundamentals/)\n",
    "\n",
    "The field of computational neuroscience studies the functions of the brain in the context of information processing capabilities. Efforts can be roughly dividied into either the (fascinating, but not (yet!) all that useful) exploration of actual brain functions and the (useful, but less interesting) simplified models that can be used for practical data analysis.   [Artificial Neural Networks](https://en.wikipedia.org/wiki/Artificial_neural_network) are a simplified computation architecture based loosely on the real neural networks found in brains. \n",
    "\n",
    "In the image below the circles on the left represent the **attributes** of our input data, $X$, which here is 3 dimensional.  The circles in the middle represent the neurons.  They take in the information from the input and, based on some criterion decide whether or not to \"fire\".  The collective results of the neurons in the hidden layer produce the output, $y$, which is represented by the circles on the right, which here is 2 dimensional result.  The lines connecting the circles represent the synapses.  This is a simple example with just one layer of neurons; however, there can be many layers of neurons.\n",
    "![Cartoon of Neural Network](https://upload.wikimedia.org/wikipedia/commons/thumb/e/e4/Artificial_neural_network.svg/500px-Artificial_neural_network.svg.png)"
   ]
  },
  {
   "cell_type": "markdown",
   "metadata": {
    "nbpresent": {
     "id": "c8a9551b-8231-4274-a9a0-f995a8a6b44a"
    },
    "slideshow": {
     "slide_type": "slide"
    }
   },
   "source": [
    "In more detail:\n",
    "\n",
    "The job of a synapses is to take input values and multiply them by some weight before passing them to the neuron (hidden layer):\n",
    "\n",
    "$$z = \\sum_i w x_i$$\n",
    "\n",
    "The neuron then sums up the inputs from all of the synapses connected to it and applies an \"activation function\".  For example a [sigmoid](https://en.wikipedia.org/wiki/Sigmoid_function) activation function.\n",
    "\n",
    "$$a = \\frac{1}{1+e^{-z}}.$$\n",
    "\n",
    "![Sigmoid Function](https://upload.wikimedia.org/wikipedia/commons/thumb/8/88/Logistic-curve.svg/500px-Logistic-curve.svg.png)\n",
    "\n",
    "What the neural network does is to learn the weights of the synapses that are needed to produce an accurate model of $y_{\\rm train}$."
   ]
  },
  {
   "cell_type": "markdown",
   "metadata": {
    "nbpresent": {
     "id": "bc6f4840-b67d-45c4-95e3-b16e574ca650"
    },
    "slideshow": {
     "slide_type": "slide"
    }
   },
   "source": [
    "Rather than think about the inputs individually, we can write this process in matrix form as\n",
    "$$X W^{(1)} = Z^{(2)}.$$\n",
    "\n",
    "If $D$ is the number of attributes (here 3) and $H$ is the number of neurons in the hidden layer (here 4), then $X$ is an $N\\times D$ matrix, while $W^{(1)}$ is a $D\\times H$ matrix.  The result, $Z^{(2)}$, is then an $N\\times H$ matrix.\n",
    "\n",
    "We then apply the activation function to each entry of $Z^{(2)}$ independently: \n",
    "$$A^{(2)} = f(Z^{(2)}),$$\n",
    "where $A^{(2)}$ is the output of the neurons in the hidden layer and is also $N\\times H$."
   ]
  },
  {
   "cell_type": "markdown",
   "metadata": {
    "nbpresent": {
     "id": "cafa3925-c1d6-43f9-a2ca-df4023cf2909"
    },
    "slideshow": {
     "slide_type": "slide"
    }
   },
   "source": [
    "These values are then the inputs for the next set of synapses, where we multiply the inputs by another set of weights, $W^{(2)}:$\n",
    "$$A^{(2)} W^{(2)} = Z^{(3)},$$\n",
    "\n",
    "where $W^{(2)}$ is an $H\\times O$ matrix and $Z^{(3)}$ is an $N\\times O$ matrix with $O$-dimensional output.\n",
    "\n",
    "Another activation function is then applied to $Z^{(3)}$ to give\n",
    "$$\\hat{y} = f(Z^{(3)}),$$\n",
    "which is our estimator of $y$."
   ]
  },
  {
   "cell_type": "markdown",
   "metadata": {
    "nbpresent": {
     "id": "b67de090-530a-4997-b57a-138100035369"
    },
    "slideshow": {
     "slide_type": "slide"
    }
   },
   "source": [
    "For example we might have $N=100$ people for which we have measured \n",
    "* shoe size\n",
    "* belt size\n",
    "* hat size\n",
    "\n",
    "for whom we know their height and weight.  \n",
    "\n",
    "Then we are going to use this to predict the height and weight for people where we only know shoe size, belt size, and hat size.\n"
   ]
  },
  {
   "cell_type": "markdown",
   "metadata": {
    "nbpresent": {
     "id": "31662fbe-7216-4291-a3f6-5fa8578b3414"
    },
    "slideshow": {
     "slide_type": "slide"
    }
   },
   "source": [
    "The neural network then essentially boils down to determining the weights, which are usually initialized randomly.\n",
    "\n",
    "We do that by minimizing the cost function (which compares the true values of $y$ to our predicted values).  Typically:\n",
    "$$ {\\rm Cost} = J = \\sum\\frac{1}{2}(y - \\hat{y})^2.$$"
   ]
  },
  {
   "cell_type": "markdown",
   "metadata": {
    "slideshow": {
     "slide_type": "slide"
    }
   },
   "source": [
    "If we just had 1 weight and we wanted to check 1000 possible values, that wouldn't be so bad.  But we have 20 weights, which means checking $20^{1000}$ possible combinations.    Remember the curse of dimensionality?  That might take a while.  Indeed, far, far longer than the age of the Universe.\n",
    "\n",
    "How about just checking 3 points for each weight and see if we can at least figure out which way is \"down hill\"?  That's a start."
   ]
  },
  {
   "cell_type": "markdown",
   "metadata": {
    "slideshow": {
     "slide_type": "slide"
    }
   },
   "source": [
    "But we could just as easily rewrite $J$ as\n",
    "$$ J = \\sum\\frac{1}{2}\\left(y - f\\left( f(X W^{(1)}) W^{(2)} \\right) \\right)^2$$\n",
    "\n",
    "and then compute\n",
    "$$\\frac{\\partial J}{\\partial W}$$\n",
    "in order to determine the slope of the cost function for each weight.  This is the **gradient descent** method."
   ]
  },
  {
   "cell_type": "markdown",
   "metadata": {
    "slideshow": {
     "slide_type": "slide"
    }
   },
   "source": [
    "We'll want $\\partial J/\\partial W^{(1)}$ and $\\partial J/\\partial W^{(2)}$ separately.  This allows us to [*backpropagate*](https://en.wikipedia.org/wiki/Backpropagation) the error contributions along each neuron and to change the weights where they most need to be changed.  It is like each observations gets a vote on which way is \"down hill\".  We compute the vector sum to decide the ultimate down hill direction.\n",
    "\n",
    "Once we know the down hill direction from the derivative, we update the weights by subtracting a scalar times that derivative from the original weights.  That's obviously much faster than randomly sampling all the possible combinations of weights.  Once the weights are set, then you have your Neural Network classifier/regressor.\n",
    "\n",
    "![Cartoon of Neural Network](https://upload.wikimedia.org/wikipedia/commons/thumb/e/e4/Artificial_neural_network.svg/500px-Artificial_neural_network.svg.png)"
   ]
  },
  {
   "cell_type": "markdown",
   "metadata": {
    "slideshow": {
     "slide_type": "slide"
    }
   },
   "source": [
    "Scikit-Learn has both [unsupervised Neural Network](http://scikit-learn.org/stable/modules/neural_networks_unsupervised.html#neural-networks-unsupervised) and [supervised Neural Network](http://scikit-learn.org/stable/modules/neural_networks_supervised.html#neural-networks-supervised) examples.  Apparently these are new as Jake VanderPlas didn't know about them.\n",
    "\n",
    "Let's try to use the multi-layer perceptron classifier on the digits data set. We will use a single hidden layer to keep the training time reasonable."
   ]
  },
  {
   "cell_type": "code",
   "execution_count": 1,
   "metadata": {
    "collapsed": false,
    "slideshow": {
     "slide_type": "slide"
    }
   },
   "outputs": [
    {
     "name": "stderr",
     "output_type": "stream",
     "text": [
      "/home/vbaker/anaconda2/lib/python2.7/site-packages/matplotlib/font_manager.py:273: UserWarning: Matplotlib is building the font cache using fc-list. This may take a moment.\n",
      "  warnings.warn('Matplotlib is building the font cache using fc-list. This may take a moment.')\n",
      "/home/vbaker/anaconda2/lib/python2.7/site-packages/sklearn/cross_validation.py:44: DeprecationWarning: This module was deprecated in version 0.18 in favor of the model_selection module into which all the refactored classes and functions are moved. Also note that the interface of the new CV iterators are different from that of this module. This module will be removed in 0.20.\n",
      "  \"This module will be removed in 0.20.\", DeprecationWarning)\n"
     ]
    },
    {
     "data": {
      "image/png": "[encoded data removed]",
      "text/plain": [
       "<matplotlib.figure.Figure at 0x7fa5044a76d0>"
      ]
     },
     "metadata": {},
     "output_type": "display_data"
    },
    {
     "name": "stdout",
     "output_type": "stream",
     "text": [
      "Training set score: 0.901001\n",
      "Classification report for classifier MLPClassifier(activation='relu', alpha=1e-05, batch_size='auto', beta_1=0.9,\n",
      "       beta_2=0.999, early_stopping=False, epsilon=1e-08,\n",
      "       hidden_layer_sizes=(15,), learning_rate='constant',\n",
      "       learning_rate_init=0.001, max_iter=200, momentum=0.9,\n",
      "       nesterovs_momentum=True, power_t=0.5, random_state=0, shuffle=True,\n",
      "       solver='lbfgs', tol=0.0001, validation_fraction=0.1, verbose=False,\n",
      "       warm_start=False):\n",
      "             precision    recall  f1-score   support\n",
      "\n",
      "          0       0.92      0.93      0.93        88\n",
      "          1       0.83      0.90      0.86        91\n",
      "          2       0.98      0.95      0.96        86\n",
      "          3       0.91      0.77      0.83        91\n",
      "          4       0.99      0.93      0.96        92\n",
      "          5       0.86      0.90      0.88        91\n",
      "          6       0.97      0.98      0.97        91\n",
      "          7       0.95      0.90      0.92        89\n",
      "          8       0.87      0.81      0.84        88\n",
      "          9       0.78      0.93      0.85        92\n",
      "\n",
      "avg / total       0.90      0.90      0.90       899\n",
      "\n",
      "\n",
      "Confusion matrix:\n",
      "[[82  0  0  0  1  5  0  0  0  0]\n",
      " [ 1 82  0  0  0  0  0  0  4  4]\n",
      " [ 0  0 82  1  0  1  0  0  2  0]\n",
      " [ 0  3  2 70  0  5  0  2  5  4]\n",
      " [ 1  0  0  0 86  1  0  0  0  4]\n",
      " [ 5  1  0  1  0 82  2  0  0  0]\n",
      " [ 0  2  0  0  0  0 89  0  0  0]\n",
      " [ 0  1  0  1  0  0  0 80  0  7]\n",
      " [ 0  9  0  2  0  0  0  1 71  5]\n",
      " [ 0  1  0  2  0  1  1  1  0 86]]\n"
     ]
    }
   ],
   "source": [
    "%matplotlib inline\n",
    "import numpy as np\n",
    "from matplotlib import pyplot as plt\n",
    "from sklearn import datasets, cross_validation, neural_network, svm, metrics\n",
    "from sklearn.neural_network import MLPClassifier \n",
    "\n",
    "digits = datasets.load_digits()\n",
    "images_and_labels = list(zip(digits.images, digits.target))\n",
    "    \n",
    "for index, (image, label) in enumerate(images_and_labels[:4]):\n",
    "    plt.subplot(2, 4, index + 1)\n",
    "    plt.axis('off')\n",
    "    plt.imshow(image, cmap=plt.cm.gray_r, interpolation='nearest')\n",
    "    plt.title('Training: %i' % label)\n",
    "plt.show()\n",
    "    \n",
    "# To apply a classifier on this data, we need to flatten the image, to\n",
    "# turn the data in a (samples, feature) matrix:\n",
    "n_samples = len(digits.images)\n",
    "data = digits.images.reshape((n_samples, -1))\n",
    "\n",
    "# Create a classifier: a support vector classifier\n",
    "classifier = MLPClassifier(solver='lbfgs', alpha=1e-5, random_state=0, hidden_layer_sizes=(15,) )\n",
    "\n",
    "# We learn the digits on the first half of the digits\n",
    "classifier.fit(data[:n_samples / 2], digits.target[:n_samples / 2])\n",
    "print(\"Training set score: %f\" % classifier.score(data[n_samples / 2:], digits.target[n_samples / 2:]))\n",
    "\n",
    "# Now predict the value of the digit on the second half:\n",
    "expected = digits.target[n_samples / 2:]\n",
    "predicted = classifier.predict(data[n_samples / 2:])\n",
    "\n",
    "print(\"Classification report for classifier %s:\\n%s\\n\"\n",
    "      % (classifier, metrics.classification_report(expected, predicted)))\n",
    "print(\"Confusion matrix:\\n%s\" % metrics.confusion_matrix(expected, predicted))"
   ]
  },
  {
   "cell_type": "markdown",
   "metadata": {
    "slideshow": {
     "slide_type": "slide"
    }
   },
   "source": [
    "This looks pretty good! In general increasing the size of the hidden layer will improve performance at the cost of longer training time. Now try training networks with a hidden layer size of 5 to 20. At what point does performance stop improving?"
   ]
  },
  {
   "cell_type": "code",
   "execution_count": 2,
   "metadata": {
    "collapsed": false,
    "slideshow": {
     "slide_type": "slide"
    }
   },
   "outputs": [
    {
     "data": {
      "image/png": "[encoded data removed]",
      "text/plain": [
       "<matplotlib.figure.Figure at 0x7faeacc39390>"
      ]
     },
     "metadata": {},
     "output_type": "display_data"
    }
   ],
   "source": [
    "from sklearn.model_selection import cross_val_score\n",
    "\n",
    "hidden_size = np.arange(5,20)\n",
    "scores = np.array([])\n",
    "for sz in hidden_size:\n",
    "    classifier = MLPClassifier(solver='lbfgs', alpha=1e-5, random_state=0, hidden_layer_sizes=(sz,) )\n",
    "    #classifier.fit(data[:n_samples / 2], digits.target[:n_samples / 2])\n",
    "    scores = np.append(scores, np.mean(cross_val_score(classifier, data, digits.target, cv=5)))\n",
    "    \n",
    "#plt.plot(hidden_size,scores)\n",
    "fig = plt.figure()\n",
    "ax = plt.gca()\n",
    "ax.plot(hidden_size,scores,'x-')\n",
    "plt.show()\n"
   ]
  },
  {
   "cell_type": "markdown",
   "metadata": {
    "slideshow": {
     "slide_type": "slide"
    }
   },
   "source": [
    "Our basic perceptron can do a pretty good job recognizing handwritten digits, assuming the digits are all centered in an 8x8 image. What happens if we embed the digit images at random locations within a 32x32 image? Try increasing the size of the hidden layer and see if we can improve the performance."
   ]
  },
  {
   "cell_type": "code",
   "execution_count": 1,
   "metadata": {
    "collapsed": false,
    "slideshow": {
     "slide_type": "slide"
    }
   },
   "outputs": [
    {
     "name": "stderr",
     "output_type": "stream",
     "text": [
      "/home/vbaker/anaconda2/lib/python2.7/site-packages/matplotlib/font_manager.py:273: UserWarning: Matplotlib is building the font cache using fc-list. This may take a moment.\n",
      "  warnings.warn('Matplotlib is building the font cache using fc-list. This may take a moment.')\n",
      "/home/vbaker/anaconda2/lib/python2.7/site-packages/sklearn/cross_validation.py:44: DeprecationWarning: This module was deprecated in version 0.18 in favor of the model_selection module into which all the refactored classes and functions are moved. Also note that the interface of the new CV iterators are different from that of this module. This module will be removed in 0.20.\n",
      "  \"This module will be removed in 0.20.\", DeprecationWarning)\n",
      "/home/vbaker/anaconda2/lib/python2.7/site-packages/ipykernel/__main__.py:13: VisibleDeprecationWarning: converting an array with ndim > 0 to an index will result in an error in the future\n"
     ]
    },
    {
     "data": {
      "image/png": "[encoded data removed]",
      "text/plain": [
       "<matplotlib.figure.Figure at 0x7f0d7bc76c50>"
      ]
     },
     "metadata": {},
     "output_type": "display_data"
    },
    {
     "data": {
      "image/png": "[encoded data removed]",
      "text/plain": [
       "<matplotlib.figure.Figure at 0x7f0d7877b290>"
      ]
     },
     "metadata": {},
     "output_type": "display_data"
    },
    {
     "data": {
      "image/png": "[encoded data removed]",
      "text/plain": [
       "<matplotlib.figure.Figure at 0x7f0d786e2090>"
      ]
     },
     "metadata": {},
     "output_type": "display_data"
    },
    {
     "name": "stdout",
     "output_type": "stream",
     "text": [
      "Classification report for classifier MLPClassifier(activation='relu', alpha=1e-05, batch_size='auto', beta_1=0.9,\n",
      "       beta_2=0.999, early_stopping=False, epsilon=1e-08,\n",
      "       hidden_layer_sizes=(200,), learning_rate='constant',\n",
      "       learning_rate_init=0.001, max_iter=200, momentum=0.9,\n",
      "       nesterovs_momentum=True, power_t=0.5, random_state=0, shuffle=True,\n",
      "       solver='lbfgs', tol=0.0001, validation_fraction=0.1, verbose=False,\n",
      "       warm_start=False):\n",
      "             precision    recall  f1-score   support\n",
      "\n",
      "          0       0.15      0.14      0.14        88\n",
      "          1       0.18      0.20      0.19        91\n",
      "          2       0.15      0.16      0.15        86\n",
      "          3       0.15      0.15      0.15        91\n",
      "          4       0.19      0.18      0.19        92\n",
      "          5       0.11      0.11      0.11        91\n",
      "          6       0.17      0.20      0.18        91\n",
      "          7       0.17      0.13      0.15        89\n",
      "          8       0.12      0.15      0.13        88\n",
      "          9       0.15      0.11      0.12        92\n",
      "\n",
      "avg / total       0.15      0.15      0.15       899\n",
      "\n",
      "\n",
      "Confusion matrix:\n",
      "[[12  7  6  8  5 11 14  5 11  9]\n",
      " [ 5 18  6  7 10 13 10  4 13  5]\n",
      " [10  2 14 10  8  8 14  3 10  7]\n",
      " [10  5 14 14  6 10  9  7  9  7]\n",
      " [ 9  8  6  9 17 12  7  8 11  5]\n",
      " [ 6 13  6 12  3 10  7 10 16  8]\n",
      " [ 5 10  9  8 17  7 18  3  9  5]\n",
      " [ 7 10 11  6 17  8  7 12  7  4]\n",
      " [ 7 12 17  6  4  5  8  8 13  8]\n",
      " [ 8 13  6 13  4  8 13 11  6 10]]\n",
      "(32, 32)\n"
     ]
    }
   ],
   "source": [
    "%matplotlib inline\n",
    "import numpy as np\n",
    "from matplotlib import pyplot as plt\n",
    "from sklearn import datasets, cross_validation, neural_network, svm, metrics\n",
    "from sklearn.neural_network import MLPClassifier \n",
    "\n",
    "digits = datasets.load_digits()\n",
    "resize = 32 #Size of larger image to embed the digits\n",
    "images_ex = np.zeros((digits.target.size,resize,resize))\n",
    "for index, image in enumerate(digits.images):\n",
    "    offrow = np.random.randint(low=0,high=resize-8,size=1)\n",
    "    offcol = np.random.randint(low=0,high=resize-8,size=1)\n",
    "    images_ex[index,offrow:offrow+8,offcol:offcol+8] = digits.images[index,:,:]\n",
    "    \n",
    "for jj in range(1,4):\n",
    "    fig = plt.figure()\n",
    "    ax1 = fig.add_subplot(1,2,2)\n",
    "    ax1.imshow(images_ex[jj,:,:],aspect='auto',origin='lower',cmap=plt.cm.gray_r, interpolation='nearest')\n",
    "    ax2 = fig.add_subplot(1,2,1)\n",
    "    ax2.imshow(digits.images[jj,:,:],aspect='auto',origin='lower',cmap=plt.cm.gray_r, interpolation='nearest')\n",
    "    plt.title(digits.target[jj])\n",
    "plt.show()\n",
    "    \n",
    "# To apply a classifier on this data, we need to flatten the image, to\n",
    "# turn the data in a (samples, feature) matrix:\n",
    "n_samples = len(digits.images)\n",
    "data_ex = images_ex.reshape((n_samples,-1))\n",
    "\n",
    "# Create a classifier: Multi-layer perceptron\n",
    "classifier = MLPClassifier(solver='lbfgs', alpha=1e-5, random_state=0, hidden_layer_sizes=(64,) )\n",
    "\n",
    "classifier.fit(data_ex[:n_samples / 2], digits.target[:n_samples / 2])\n",
    "\n",
    "# Now predict the value of the digit on the second half:\n",
    "expected = digits.target[n_samples / 2:]\n",
    "predicted = classifier.predict(data_ex[n_samples / 2:])\n",
    "\n",
    "print(\"Classification report for classifier %s:\\n%s\\n\"\n",
    "      % (classifier, metrics.classification_report(expected, predicted)))\n",
    "print(\"Confusion matrix:\\n%s\" % metrics.confusion_matrix(expected, predicted))\n",
    "\n"
   ]
  },
  {
   "cell_type": "markdown",
   "metadata": {
    "slideshow": {
     "slide_type": "slide"
    }
   },
   "source": [
    "Well that fell apart quickly! We're at roughly the point where neural networks faded from popularity in the 90s. Perceptrons generated intense interest because they were biologically inspired and could be applied generically to any supervised learning problem. However they weren't extensible to more realistic problems, and for supervised learning there were techniques such as support vector machines that provided better performance and avoided the explosion in training time seen for large perceptrons."
   ]
  },
  {
   "cell_type": "markdown",
   "metadata": {
    "slideshow": {
     "slide_type": "slide"
    }
   },
   "source": [
    "Recent interest in neural networks surged in 2012 when a team using a deep convolutional neural network aceived record results classifying objects in the [ImageNet](http://image-net.org/) data set. Some examples of the types of classification performed on the dataset are shown below.\n"
   ]
  },
  {
   "cell_type": "markdown",
   "metadata": {
    "slideshow": {
     "slide_type": "slide"
    }
   },
   "source": [
    "This is clearly much more sophisticated than our basic perceptron. \"Deep\" networks consist of tens of layers with thousands of neurons. These large networks have become usabel thanks to two breakthroughs: the use of sparse layers and the power of graphics processing units (GPUs).\n",
    "Many image processing tasks involve convolving an image with a 2-dimensional kernel as shown below.\n",
    "![Convolution example](https://developer.apple.com/library/content/documentation/Performance/Conceptual/vImage/Art/kernel_convolution.jpg)\n",
    "The sparse layers or convolutional layers in a deep network contain a large number of hidden nodes but very few synapses. The sparseness arises from the relatively small size of a typical convolution kernel (15x15 is a large kernel), so a hidden node representing one output of the convolution is connected to only a few input nodes. Compare this the our previous perceptron, in which every hidden node was connected to every input node.\n",
    "\n",
    "Even though the total number of connections is greatly reduced in the sparse layers, the total number of nodes and connections in a modern deep network is still enormous. Luckily, training these networks turns out to be a great task for GPU acceleration! Serious work using neural networks is almost always done usign specialized GPU-accelerated platforms."
   ]
  },
  {
   "cell_type": "markdown",
   "metadata": {
    "slideshow": {
     "slide_type": "slide"
    }
   },
   "source": [
    "Max pooling"
   ]
  },
  {
   "cell_type": "markdown",
   "metadata": {
    "slideshow": {
     "slide_type": "slide"
    }
   },
   "source": [
    "The Keras framework provides a Python environment for CNN development. Keras uses the TensorFlow module for backend processing. \n",
    "\n",
    "Installing Keras is simple with pip:\n",
    "pip install tensorflow\n",
    "pip install keras"
   ]
  },
  {
   "cell_type": "code",
   "execution_count": 27,
   "metadata": {
    "collapsed": false,
    "slideshow": {
     "slide_type": "slide"
    }
   },
   "outputs": [
    {
     "name": "stdout",
     "output_type": "stream",
     "text": [
      "1797\n",
      "____________________________________________________________________________________________________\n",
      "Layer (type)                     Output Shape          Param #     Connected to                     \n",
      "====================================================================================================\n",
      "convolution2d_39 (Convolution2D) (None, 26, 26, 32)    1600        convolution2d_input_20[0][0]     \n",
      "____________________________________________________________________________________________________\n",
      "activation_77 (Activation)       (None, 26, 26, 32)    0           convolution2d_39[0][0]           \n",
      "____________________________________________________________________________________________________\n",
      "convolution2d_40 (Convolution2D) (None, 22, 22, 32)    25632       activation_77[0][0]              \n",
      "____________________________________________________________________________________________________\n",
      "activation_78 (Activation)       (None, 22, 22, 32)    0           convolution2d_40[0][0]           \n",
      "____________________________________________________________________________________________________\n",
      "maxpooling2d_20 (MaxPooling2D)   (None, 11, 11, 32)    0           activation_78[0][0]              \n",
      "____________________________________________________________________________________________________\n",
      "dropout_39 (Dropout)             (None, 11, 11, 32)    0           maxpooling2d_20[0][0]            \n",
      "____________________________________________________________________________________________________\n",
      "flatten_20 (Flatten)             (None, 3872)          0           dropout_39[0][0]                 \n",
      "____________________________________________________________________________________________________\n",
      "dense_39 (Dense)                 (None, 128)           495744      flatten_20[0][0]                 \n",
      "____________________________________________________________________________________________________\n",
      "activation_79 (Activation)       (None, 128)           0           dense_39[0][0]                   \n",
      "____________________________________________________________________________________________________\n",
      "dropout_40 (Dropout)             (None, 128)           0           activation_79[0][0]              \n",
      "____________________________________________________________________________________________________\n",
      "dense_40 (Dense)                 (None, 10)            1290        dropout_40[0][0]                 \n",
      "____________________________________________________________________________________________________\n",
      "activation_80 (Activation)       (None, 10)            0           dense_40[0][0]                   \n",
      "====================================================================================================\n",
      "Total params: 524266\n",
      "____________________________________________________________________________________________________\n",
      "Train on 1617 samples, validate on 180 samples\n",
      "Epoch 1/10\n",
      "1617/1617 [==============================] - 7s - loss: 2.3481 - acc: 0.1008 - val_loss: 2.2983 - val_acc: 0.1389\n",
      "Epoch 2/10\n",
      "1617/1617 [==============================] - 7s - loss: 2.2887 - acc: 0.1280 - val_loss: 2.2943 - val_acc: 0.1833\n",
      "Epoch 3/10\n",
      "1617/1617 [==============================] - 8s - loss: 2.2477 - acc: 0.1688 - val_loss: 2.2629 - val_acc: 0.1389\n",
      "Epoch 4/10\n",
      "1617/1617 [==============================] - 9s - loss: 2.1602 - acc: 0.2214 - val_loss: 2.2541 - val_acc: 0.1722\n",
      "Epoch 5/10\n",
      "1617/1617 [==============================] - 9s - loss: 2.0191 - acc: 0.2876 - val_loss: 2.2467 - val_acc: 0.1833\n",
      "Epoch 6/10\n",
      "1617/1617 [==============================] - 8s - loss: 1.8627 - acc: 0.3624 - val_loss: 2.0675 - val_acc: 0.2611\n",
      "Epoch 7/10\n",
      "1617/1617 [==============================] - 8s - loss: 1.6502 - acc: 0.4310 - val_loss: 2.0351 - val_acc: 0.2667\n",
      "Epoch 8/10\n",
      "1617/1617 [==============================] - 8s - loss: 1.4712 - acc: 0.4898 - val_loss: 1.8840 - val_acc: 0.3722\n",
      "Epoch 9/10\n",
      "1617/1617 [==============================] - 8s - loss: 1.3133 - acc: 0.5609 - val_loss: 1.7721 - val_acc: 0.4000\n",
      "Epoch 10/10\n",
      "1617/1617 [==============================] - 7s - loss: 1.0836 - acc: 0.6388 - val_loss: 1.7588 - val_acc: 0.4222\n"
     ]
    },
    {
     "data": {
      "text/plain": [
       "<keras.callbacks.History at 0x7f0d3b4aadd0>"
      ]
     },
     "execution_count": 27,
     "metadata": {},
     "output_type": "execute_result"
    }
   ],
   "source": [
    "from keras.models import Sequential\n",
    "from keras.layers import Dense, Activation, Dropout, Flatten\n",
    "from keras.layers import Convolution2D, MaxPooling2D\n",
    "from keras.utils import np_utils\n",
    "\n",
    "#Create a model\n",
    "model = Sequential()\n",
    "\n",
    "#Use two sparse layers to learn useful, translation-invariant features\n",
    "model.add(Convolution2D(32,7,7,border_mode='valid',input_shape=(32,32,1)))\n",
    "model.add(Activation('relu'))\n",
    "model.add(Convolution2D(32,5,5))\n",
    "model.add(Activation('relu'))\n",
    "model.add(MaxPooling2D(pool_size=(2,2)))\n",
    "model.add(Dropout(0.25))\n",
    "model.add(Flatten())\n",
    "\n",
    "#Add dense layers to do the actual classification\n",
    "model.add(Dense(128))\n",
    "model.add(Activation('relu'))\n",
    "model.add(Dropout(0.5))\n",
    "model.add(Dense(10))\n",
    "model.add(Activation('softmax'))\n",
    "\n",
    "\n",
    "model.compile(loss='categorical_crossentropy', optimizer='rmsprop',metrics=['accuracy'])\n",
    "model.summary()\n",
    "\n",
    "#Keras has some particular requirements for data formats...\n",
    "dataX = images_ex.reshape(images_ex.shape[0],images_ex.shape[1],images_ex.shape[2],1)\n",
    "dataY = np_utils.to_categorical(digits.target)\n",
    "\n",
    "#Train the model. We get a summary of performance after each training epoch\n",
    "model.fit(dataX, dataY, validation_split=0.1, batch_size=128, nb_epoch=10)\n",
    "\n"
   ]
  },
  {
   "cell_type": "markdown",
   "metadata": {
    "slideshow": {
     "slide_type": "slide"
    }
   },
   "source": [
    "In each training epoch, \"acc\" is the accuracy against the training data while \"val_acc\" is the accuracy against the 10% of the data we withold as a test set.\n",
    "\n",
    "We've definitely improved on the simple classifier, although even this simple network with a fairly small data set takes a while to train. Try bumping the number of training epochs higher. You should get to about 60% accuracy on the validation data."
   ]
  },
  {
   "cell_type": "code",
   "execution_count": null,
   "metadata": {
    "collapsed": true
   },
   "outputs": [],
   "source": []
  }
 ],
 "metadata": {
  "anaconda-cloud": {},
  "celltoolbar": "Slideshow",
  "kernelspec": {
   "display_name": "Python [Root]",
   "language": "python",
   "name": "Python [Root]"
  },
  "language_info": {
   "codemirror_mode": {
    "name": "ipython",
    "version": 2
   },
   "file_extension": ".py",
   "mimetype": "text/x-python",
   "name": "python",
   "nbconvert_exporter": "python",
   "pygments_lexer": "ipython2",
   "version": "2.7.12"
  },
  "nbpresent": {
   "slides": {
    "a6340146-092b-47d0-8584-e84bb64c0952": {
     "id": "a6340146-092b-47d0-8584-e84bb64c0952",
     "prev": null,
     "regions": {
      "9f3c3dc8-1276-4b96-9b97-e4b352cc7fb5": {
       "attrs": {
        "height": 1,
        "width": 1,
        "x": 0.008349570712902259,
        "y": -0.008482103581361025
       },
       "id": "9f3c3dc8-1276-4b96-9b97-e4b352cc7fb5"
      }
     }
    }
   },
   "themes": {}
  }
 },
 "nbformat": 4,
 "nbformat_minor": 1
}
