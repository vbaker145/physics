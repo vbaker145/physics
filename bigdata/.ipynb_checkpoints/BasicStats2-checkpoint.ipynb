{
 "cells": [
  {
   "cell_type": "markdown",
   "metadata": {
    "slideshow": {
     "slide_type": "slide"
    }
   },
   "source": [
    "# Distributions and Estimators\n",
    "\n",
    "G. Richards, 2016\n",
    "\n",
    "Resources for this material include Ivezic Sections 3.2-3.5, Karen' Leighly's [Bayesian Statistics Lecture](http://seminar.ouml.org/lectures/bayesian-statistics/), and Bevington's book."
   ]
  },
  {
   "cell_type": "markdown",
   "metadata": {
    "slideshow": {
     "slide_type": "slide"
    }
   },
   "source": [
    "Our goal is ultimately to figure out the *distribution* from which our data is drawn, i.e., we want to know the *model*.  For example, let's say that we are trying to characterize the population of asteroids in the Solar System.  Maybe their sizes have a Gaussian distribution (with some characteristic size), or maybe they have a flat distribution (with equal numbers over a large range of sizes).  Or maybe the distribution is a power-law, with lots of little asteroids and very little big ones.  Or maybe it is a power-law in the other direction: very few little ones and lots of big ones.  If you are the first person to discover asteroids, then *you don't know*.  Our job is to figure that out: based entirely on the data."
   ]
  },
  {
   "cell_type": "markdown",
   "metadata": {
    "slideshow": {
     "slide_type": "slide"
    }
   },
   "source": [
    "That leads us to the need for **estimators**.  Since we don't know the distribution, we have to estimate it.  \n",
    "\n",
    "So, the book spends a lot of time talking about estimators and possible distributions.  \n",
    "\n",
    "Let's first review some commonly computed statistical properties of a data set."
   ]
  },
  {
   "cell_type": "code",
   "execution_count": 1,
   "metadata": {
    "collapsed": true,
    "slideshow": {
     "slide_type": "slide"
    }
   },
   "outputs": [],
   "source": [
    "# Execute this cell\n",
    "import numpy as np\n",
    "import scipy.stats\n",
    "from astroML import stats as astroMLstats\n",
    "data = np.random.random(1000)"
   ]
  },
  {
   "cell_type": "markdown",
   "metadata": {
    "slideshow": {
     "slide_type": "slide"
    }
   },
   "source": [
    "The **arithmetic mean** (or Expectation value) is\n",
    "\n",
    "$$\\mu = E(x) = \\int_{-\\infty}^{\\infty} x h(x) dx,$$\n",
    "\n",
    "where $h(x)$ must be properly normalized and the integral gets replaced by a sum for discrete distributions.\n",
    "\n",
    "Specifically, this is the expecation value of $x$.  If you want the expectation value of something else--say $x^2$ or $(x-\\mu)^2$, you replace $x$ with that."
   ]
  },
  {
   "cell_type": "code",
   "execution_count": 2,
   "metadata": {
    "collapsed": false
   },
   "outputs": [
    {
     "name": "stdout",
     "output_type": "stream",
     "text": [
      "0.489173656583\n"
     ]
    }
   ],
   "source": [
    "# Execute this cell\n",
    "mean = np.mean(data)\n",
    "print mean"
   ]
  },
  {
   "cell_type": "markdown",
   "metadata": {
    "slideshow": {
     "slide_type": "slide"
    }
   },
   "source": [
    "While it is perhaps most common to compute the mean, the median is a more *robust* estimator of the mean location of the distribution.  That's because it is less affected by outliers."
   ]
  },
  {
   "cell_type": "code",
   "execution_count": null,
   "metadata": {
    "collapsed": true
   },
   "outputs": [],
   "source": [
    "# Execute this cell.  Think about what it is doing.\n",
    "median = np.median(data)\n",
    "mask = data>0.75\n",
    "data[mask] = data[mask]*2\n",
    "newmedian = np.median(data)\n",
    "newmean = np.mean(data)\n",
    "print median,newmedian\n",
    "print mean,newmean"
   ]
  },
  {
   "cell_type": "markdown",
   "metadata": {
    "slideshow": {
     "slide_type": "slide"
    }
   },
   "source": [
    "In addition to the \"average\", we'd like to know something about **deviations** from the average.  The simplest thing to compute is $$d_i = x_i - \\mu.$$  However, the average deviation is zero by definition of the mean.  The next simplest thing to do is to compute the mean absolute deviation:\n",
    "$$\\frac{1}{N}\\sum|x_i-\\mu|,$$\n",
    "but the absolute values can hide the true scatter of the distribution [in some cases](http://www.mathsisfun.com/data/standard-deviation.html).  So the next simplest thing to do is to square the differences $$\\sigma^2 = \\frac{1}{N}\\sum(x_i-\\mu)^2,$$ which we call the **variance**."
   ]
  },
  {
   "cell_type": "markdown",
   "metadata": {
    "slideshow": {
     "slide_type": "slide"
    }
   },
   "source": [
    "Indeed the *variance* is just expectation value of $(x-\\mu)^2$\n",
    "\n",
    "$$\\sigma^2 = V = \\int_{-\\infty}^{\\infty}  (x-\\mu)^2 h(x) dx,$$\n",
    "\n",
    "where, again,  the integral gets replaced by a sum for discrete distributions."
   ]
  },
  {
   "cell_type": "code",
   "execution_count": 18,
   "metadata": {
    "collapsed": true,
    "slideshow": {
     "slide_type": "slide"
    }
   },
   "outputs": [],
   "source": [
    "# Execute this cell\n",
    "var = np.var(data)"
   ]
  },
  {
   "cell_type": "markdown",
   "metadata": {
    "slideshow": {
     "slide_type": "slide"
    }
   },
   "source": [
    "And we define the **standard deviation** as\n",
    "$$\\sigma = \\sqrt{V}$$"
   ]
  },
  {
   "cell_type": "code",
   "execution_count": 19,
   "metadata": {
    "collapsed": true,
    "slideshow": {
     "slide_type": "slide"
    }
   },
   "outputs": [],
   "source": [
    "# Execute this cell\n",
    "std = np.std(data)"
   ]
  },
  {
   "cell_type": "markdown",
   "metadata": {},
   "source": [
    "There is also the Median Absolute Deviation (MAD) given by\n",
    "$${\\rm median} (|x_i-{\\rm median}(\\{x_i\\})|)$$\n",
    "where $\\sigma = 1.4826\\,{\\rm MAD}$ for a Gaussian distribution."
   ]
  },
  {
   "cell_type": "markdown",
   "metadata": {
    "slideshow": {
     "slide_type": "slide"
    }
   },
   "source": [
    "Percentiles, $q_p$, are computed as\n",
    "$$\\frac{p}{100} = \\int_{-\\infty}^{q_p}h(x) dx$$\n",
    "\n",
    "For example, the 25th, 50th, and 75th percentiles:"
   ]
  },
  {
   "cell_type": "code",
   "execution_count": 14,
   "metadata": {
    "collapsed": true,
    "slideshow": {
     "slide_type": "slide"
    }
   },
   "outputs": [],
   "source": [
    "# Complete this cell and execute\n",
    "q25,q50,q75 = # Complete"
   ]
  },
  {
   "cell_type": "markdown",
   "metadata": {
    "slideshow": {
     "slide_type": "slide"
    }
   },
   "source": [
    "Where we call the difference between the 25th and 75th percentiles, $q_{75} - q_{25}$, the *interquartile range*.\n",
    "\n",
    "The median and interquartile range are more _robust_ than the mean and standard deviation.  So, one can create a standard deviation like measurement (at least for a Gaussian) from the interquartile range as\n",
    "$\\sigma_G = 0.7413(q_{75} - q_{25})$, which we saw last time.  One reason to use this is the same as for the median.  $\\sigma_G$ is a more *robust* estimator of the scale of the distribution.  The normalization makes it *unbiased* for a perfect Gaussian (more on that later)."
   ]
  },
  {
   "cell_type": "code",
   "execution_count": null,
   "metadata": {
    "collapsed": true,
    "slideshow": {
     "slide_type": "slide"
    }
   },
   "outputs": [],
   "source": [
    "# Execute this cell\n",
    "astroMLstats.sigmaG(data)"
   ]
  },
  {
   "cell_type": "markdown",
   "metadata": {
    "slideshow": {
     "slide_type": "slide"
    }
   },
   "source": [
    "The mode is the most probable value, determined from the peak of the distribution, which is the value where the derivative is 0:\n",
    "$$ \\left(\\frac{dh(x)}{dx}\\right)_{x_m} = 0$$"
   ]
  },
  {
   "cell_type": "code",
   "execution_count": 22,
   "metadata": {
    "collapsed": true,
    "slideshow": {
     "slide_type": "slide"
    }
   },
   "outputs": [],
   "source": [
    "# Execute this cell\n",
    "mode = scipy.stats.mode(data)"
   ]
  },
  {
   "cell_type": "markdown",
   "metadata": {
    "collapsed": false,
    "slideshow": {
     "slide_type": "slide"
    }
   },
   "source": [
    "Another way to compute the mode is\n",
    "$$x_m = 3q_{50} - \\mu$$"
   ]
  },
  {
   "cell_type": "code",
   "execution_count": 23,
   "metadata": {
    "collapsed": true,
    "slideshow": {
     "slide_type": "slide"
    }
   },
   "outputs": [],
   "source": [
    "# Execute this cell\n",
    "modealt = 3*q50 - 2*mean"
   ]
  },
  {
   "cell_type": "markdown",
   "metadata": {
    "slideshow": {
     "slide_type": "slide"
    }
   },
   "source": [
    "Other useful measures include the median and the \"higher order\" moments (the skewness and kurtosis):"
   ]
  },
  {
   "cell_type": "code",
   "execution_count": 17,
   "metadata": {
    "collapsed": true,
    "slideshow": {
     "slide_type": "slide"
    }
   },
   "outputs": [],
   "source": [
    "# Execute this cell\n",
    "skew = scipy.stats.skew(data)\n",
    "kurt = scipy.stats.kurtosis(data)"
   ]
  },
  {
   "cell_type": "code",
   "execution_count": null,
   "metadata": {
    "collapsed": true
   },
   "outputs": [],
   "source": [
    "# Excute this cell\n",
    "print mean, median, var, std, skew, kurt, mode.mode, modealt, q25, q50, q75"
   ]
  },
  {
   "cell_type": "markdown",
   "metadata": {
    "slideshow": {
     "slide_type": "slide"
    }
   },
   "source": [
    "We could do the same with a normal distribution:"
   ]
  },
  {
   "cell_type": "code",
   "execution_count": 42,
   "metadata": {
    "collapsed": false,
    "slideshow": {
     "slide_type": "slide"
    }
   },
   "outputs": [],
   "source": [
    "# Complete and Execute this cell\n",
    "ndata = # Make this a normal distribution with mean=0, sigma=1 with a sample size of 10000"
   ]
  },
  {
   "cell_type": "code",
   "execution_count": null,
   "metadata": {
    "collapsed": true
   },
   "outputs": [],
   "source": [
    "# Compute all the above stats for this distribution\n",
    "print np.mean(ndata), np.median(ndata), np.var(ndata), np.std(ndata)\n",
    "print scipy.stats.skew(ndata), scipy.stats.kurtosis(ndata), scipy.stats.mode(ndata).mode\n",
    "print np.percentile(ndata, [25,50,75])"
   ]
  },
  {
   "cell_type": "markdown",
   "metadata": {
    "slideshow": {
     "slide_type": "slide"
    }
   },
   "source": [
    "### Sample vs. Population Statistics \n",
    "\n",
    "Statistics estimated from the *data* are called _sample statistics_ as compared to _population statistics_ which come from knowing the functional form of the pdf.  Up to now we have been computing population statistics.\n",
    "\n",
    "Specifically, $\\mu$ is the *population average*, i.e., it is the expecation value of $x$ for $h(x)$.  But we don't *know* $h(x)$.  So the **sample mean**, $\\overline{x}$, is an *estimator* of $\\mu$, defined as\n",
    "$$\\overline{x} \\equiv \\frac{1}{N}\\sum_{i=1}^N x_i,$$\n",
    "which we determine from the data itself."
   ]
  },
  {
   "cell_type": "markdown",
   "metadata": {
    "slideshow": {
     "slide_type": "slide"
    }
   },
   "source": [
    "Then instead of $\\sigma^2$, which is the population variance, we have the **sample variance**, $s^2$, where\n",
    "\n",
    "$$s^2 = \\frac{1}{N-1}\\sum_{i=1}^N(x_i-\\overline{x})^2$$\n",
    "\n",
    "Where it is $N-1$ instead of $N$ since we had to determine $\\overline{x}$ from the data instead of using a known $\\mu$.  Ideally one tries to work in a regime where $N$ is large enough that we can be lazy and ignore this. \n",
    "\n",
    "So the mean and variance of a distribution are $\\mu$ and $\\sigma^2$.  The *estimators* of the distribution are $\\overline{x}$ (or $\\hat{x}$) and $s^2$."
   ]
  },
  {
   "cell_type": "markdown",
   "metadata": {
    "slideshow": {
     "slide_type": "slide"
    }
   },
   "source": [
    "## Bias\n",
    "\n",
    "If there is a difference between the *estimator* and the *population* values, we say that the estimator is **biased** (perhaps not quite the usage of the word that you are used to).  Again, more on this later."
   ]
  },
  {
   "cell_type": "markdown",
   "metadata": {
    "slideshow": {
     "slide_type": "slide"
    }
   },
   "source": [
    "### Uncertainty\n",
    "\n",
    "We would also like to know the uncertainty of our estimates $\\overline{x}$ and $s$.  Note that $s$ is **NOT** the uncertainty of $\\overline{x}$.  Rather the uncertainty of $\\overline{x}$, $\\sigma_{\\overline{x}}$ is \n",
    "$$ \\sigma_{\\overline{x}} = \\frac{s}{\\sqrt{N}},$$\n",
    "which we call the *standard error of the mean*.\n",
    "\n",
    "The uncertainty of $s$ itself is\n",
    "$$\\sigma_s = \\frac{s}{\\sqrt{2(N-1)}} = \\frac{1}{\\sqrt{2}}\\sqrt{\\frac{N}{N-1}}\\sigma_{\\overline{x}}.$$\n",
    "\n",
    "Note that for large $N$, $\\sigma_{\\overline{x}} \\sim \\sqrt{2}\\sigma_s$ and for small $N$, $\\sigma_s$ is not much smaller than $s$."
   ]
  },
  {
   "cell_type": "markdown",
   "metadata": {
    "slideshow": {
     "slide_type": "slide"
    }
   },
   "source": [
    "## Distributions\n",
    "\n",
    "If we are attempting to characterize our data in a way that is **parameterized**, then we need a functional form or a **distribution**.  There are many naturally occurring distributions.  The book goes through quite a few of them.  Here we'll just talk about a few basic ones to get us started.\n"
   ]
  },
  {
   "cell_type": "markdown",
   "metadata": {
    "slideshow": {
     "slide_type": "slide"
    }
   },
   "source": [
    "### Uniform Distribution\n",
    "\n",
    "The uniform distribution is perhaps more commonly called a \"top-hat\" or a \"box\" distribution.  It is specified by a mean, $\\mu$, and a width, $W$, where\n",
    "\n",
    "$$p(x|\\mu,W) = \\frac{1}{W}$$\n",
    "\n",
    "over the range $|x-\\mu|\\le \\frac{W}{2}$ and $0$ otherwise.  That says that \"given $\\mu$ AND $W$, the probability of $x$ is $\\frac{1}{W}$\" (as long as we are within a certain range).\n",
    "\n",
    "Since we are used to thinking of a Gaussian as the *only* type of distribution the concept of $\\sigma$ (aside from the width) may seem strange.  But $\\sigma$ as mathematically defined above applies here and\n",
    "$$\\sigma = \\frac{W}{\\sqrt{12}}.$$\n"
   ]
  },
  {
   "cell_type": "code",
   "execution_count": null,
   "metadata": {
    "collapsed": true,
    "slideshow": {
     "slide_type": "slide"
    }
   },
   "outputs": [],
   "source": [
    "# Execute this cell\n",
    "%matplotlib inline\n",
    "%run code/fig_uniform_distribution.py"
   ]
  },
  {
   "cell_type": "markdown",
   "metadata": {
    "slideshow": {
     "slide_type": "slide"
    }
   },
   "source": [
    "We can implement [uniform](http://docs.scipy.org/doc/scipy/reference/generated/scipy.stats.uniform.html#scipy.stats.uniform) in `scipy` as follows.  Use the methods listed at the bottom of the link to complete the cell."
   ]
  },
  {
   "cell_type": "code",
   "execution_count": null,
   "metadata": {
    "collapsed": true,
    "slideshow": {
     "slide_type": "slide"
    }
   },
   "outputs": [],
   "source": [
    "# Complete and execute this cell\n",
    "from scipy import stats\n",
    "dist = # Complete for left edge = 0, width = 2\n",
    "r = dist # Complete for 10 random draws\n",
    "print r\n",
    "p = dist # Complete for pdf evaluated at x-1\n",
    "print p"
   ]
  },
  {
   "cell_type": "markdown",
   "metadata": {
    "slideshow": {
     "slide_type": "slide"
    }
   },
   "source": [
    "Did you expect that answer for the pdf?  Why?  What would the pdf be if you changed the width to 4?"
   ]
  },
  {
   "cell_type": "markdown",
   "metadata": {
    "slideshow": {
     "slide_type": "slide"
    }
   },
   "source": [
    "### Gaussian Distribution\n",
    "\n",
    "We have already seen that the Gaussian distribution is given by\n",
    "$$p(x|\\mu,\\sigma) = \\frac{1}{\\sigma\\sqrt{2\\pi}} \\exp\\left(\\frac{-(x-\\mu)^2}{2\\sigma^2}\\right).$$\n",
    "\n",
    "It is also called the **normal distribution** and can be noted by $\\mathscr{N}(\\mu,\\sigma)$.\n"
   ]
  },
  {
   "cell_type": "code",
   "execution_count": null,
   "metadata": {
    "collapsed": true
   },
   "outputs": [],
   "source": [
    "# Execute this cell\n",
    "%run code/fig_gaussian_distribution.py"
   ]
  },
  {
   "cell_type": "code",
   "execution_count": 28,
   "metadata": {
    "collapsed": true,
    "slideshow": {
     "slide_type": "slide"
    }
   },
   "outputs": [],
   "source": [
    "# Complete and execute this cell\n",
    "from scipy import stats\n",
    "dist = # Normal distribution with mean = 0, stdev = 1\n",
    "r = # 10 random draws\n",
    "p = # pdf evaluated at x=0\n",
    "print p,r"
   ]
  },
  {
   "cell_type": "code",
   "execution_count": null,
   "metadata": {
    "collapsed": true,
    "slideshow": {
     "slide_type": "slide"
    }
   },
   "outputs": [],
   "source": [
    "# Uncomment the next line and run\n",
    "# I just want you to know that this magic function exists.\n",
    "#%load code/fig_gaussian_distribution.py"
   ]
  },
  {
   "cell_type": "markdown",
   "metadata": {
    "slideshow": {
     "slide_type": "slide"
    }
   },
   "source": [
    "Note that the convolution of two Gaussians results in a Gaussian.  So $\\mathscr{N}(\\mu,\\sigma)$ convolved with $\\mathscr{N}(\\nu,\\rho)$ is $\\mathscr{N}(\\mu+\\nu,\\sqrt{\\sigma^2+\\rho^2})$"
   ]
  },
  {
   "cell_type": "markdown",
   "metadata": {
    "slideshow": {
     "slide_type": "slide"
    }
   },
   "source": [
    "### Gaussian confidence levels\n",
    "\n",
    "The probability of a measurement drawn from a Gaussian distribution that is between $\\mu-a$ and $\\mu+b$ is\n",
    "$$\\int_{\\mu-a}^{\\mu+b} p(x|\\mu,\\sigma) dx.$$\n",
    "For $a=b=2\\sigma$, we get the familar result of 68.3%.  For $a=b=3\\sigma$ it is 95.4%.  So we refer to the range $\\mu \\pm 2\\sigma$ and $\\mu \\pm 3\\sigma$ as the 68% and 95% **confidence limits**, respectively."
   ]
  },
  {
   "cell_type": "markdown",
   "metadata": {
    "slideshow": {
     "slide_type": "slide"
    }
   },
   "source": [
    "Can you figure out what the probability is for $-2\\sigma, +4\\sigma$?  Check to see that you get the right answer for the cases above first!"
   ]
  },
  {
   "cell_type": "code",
   "execution_count": null,
   "metadata": {
    "collapsed": true
   },
   "outputs": [],
   "source": [
    "# Complete and execute this cell\n",
    "N=10000\n",
    "mu=0\n",
    "sigma=1\n",
    "dist = # Complete\n",
    "v = np.linspace( # Complete\n",
    "prob = # Complete\n",
    "print prob.sum()"
   ]
  },
  {
   "cell_type": "markdown",
   "metadata": {
    "slideshow": {
     "slide_type": "slide"
    }
   },
   "source": [
    "### Log Normal\n",
    "\n",
    "Note that if $x$ is Gaussian distributed with $\\mathscr{N}(\\mu,\\sigma)$, then $y=\\exp(x)$ will have a **log-normal** distribution, where the mean of y is $\\exp(\\mu + \\sigma^2/2)$.  Try it."
   ]
  },
  {
   "cell_type": "code",
   "execution_count": null,
   "metadata": {
    "collapsed": true
   },
   "outputs": [],
   "source": [
    "# Execute this cell\n",
    "x = stats.norm(0,1) # mean = 0, stdev = 1\n",
    "y = np.exp(x)\n",
    "print y.mean()\n",
    "print x"
   ]
  },
  {
   "cell_type": "markdown",
   "metadata": {
    "slideshow": {
     "slide_type": "slide"
    }
   },
   "source": [
    "The catch here is that stats.norm(0,1) returns an object and not something that we can just do math on in the expected manner.  What *can* you do with it?  Try dir(x) to get a list of all the methods and properties."
   ]
  },
  {
   "cell_type": "code",
   "execution_count": null,
   "metadata": {
    "collapsed": true
   },
   "outputs": [],
   "source": [
    "# Complete and execute this cell\n",
    "dist = stats.norm(0,1) # mean = 0, stdev = 1\n",
    "x = # Complete\n",
    "y = # Complete\n",
    "print x.mean(),np.log(y.mean())"
   ]
  },
  {
   "cell_type": "markdown",
   "metadata": {
    "slideshow": {
     "slide_type": "slide"
    }
   },
   "source": [
    "### $\\chi^2$ Distribution\n",
    "\n",
    "We'll run into the $\\chi^2$ distribution when we talk about Maximum Likelihood in the next chapter.\n",
    "\n",
    "If we have a Gaussian distribution with values ${x_i}$ and we scale and normalize them according to\n",
    "$$z_i = \\frac{x_i-\\mu}{\\sigma},$$\n",
    "then the sum of squares, $Q$ \n",
    "$$Q = \\sum_{i=1}^N z_i^2,$$\n",
    "will follow the $\\chi^2$ distribution.  The *number of degrees of freedom*, $k$ is given by the number of data points, $N$ (minus any constraints).  The pdf of $Q$ given $k$ defines $\\chi^2$ and is given by\n",
    "$$p(Q|k)\\equiv \\chi^2(Q|k) = \\frac{1}{2^{k/2}\\Gamma(k/2)}Q^{k/2-1}\\exp(-Q/2),$$\n",
    "where $Q>0$ and the $\\Gamma$ function would just be the usual factorial function if we were dealing with integers, but here we have half integers.\n",
    "\n",
    "This is ugly, but it is really just a formula like anything else.  Note that the shape of the distribution *only* depends on the sample size $N=k$ and not on $\\mu$ or $\\sigma$.  "
   ]
  },
  {
   "cell_type": "code",
   "execution_count": null,
   "metadata": {
    "collapsed": true,
    "slideshow": {
     "slide_type": "slide"
    }
   },
   "outputs": [],
   "source": [
    "# Execute this cell\n",
    "%run code/fig_chi2_distribution.py"
   ]
  },
  {
   "cell_type": "markdown",
   "metadata": {
    "slideshow": {
     "slide_type": "slide"
    }
   },
   "source": [
    "### Student's $t$ Distribution\n",
    "\n",
    "Another distribution that we'll see later is the Student's $t$ Distribution.\n",
    "\n",
    "If you have asample of $N$ measurements, $\\{x_i\\}$, drawn from a Gaussian distribution, $\\mathscr{N}(\\mu,\\sigma)$, and you apply the transform\n",
    "$$t = \\frac{\\overline{x}-\\mu}{s/\\sqrt{N}},$$\n",
    "then $t$ will be distributed according to Student's $t$ with the following pdf (for $k$ degrees of freedom): \n",
    "$$p(x|k) = \\frac{\\Gamma(\\frac{k+1}{2})}{\\sqrt{\\pi k} \\Gamma(\\frac{k}{2})} \\left(1+\\frac{x^2}{k}\\right)^{-\\frac{k+1}{2}}$$\n",
    "\n",
    "As with a Gaussian, Student's $t$ is bell shaped, but has \"heavier\" tails."
   ]
  },
  {
   "cell_type": "code",
   "execution_count": null,
   "metadata": {
    "collapsed": true,
    "slideshow": {
     "slide_type": "slide"
    }
   },
   "outputs": [],
   "source": [
    "# Execute this cell\n",
    "%run code/fig_student_t_distribution.py"
   ]
  },
  {
   "cell_type": "markdown",
   "metadata": {
    "slideshow": {
     "slide_type": "slide"
    }
   },
   "source": [
    "### What's the point?\n",
    "\n",
    "The point is that we are going to make some measurement.  And we will want to know how likely it is that we would get that measurement in our experiment as compared to random chance.  To determine that we need to know the shape of the distribution.  Let's say that we find that $x=6$.  If our data is $\\chi^2$ distributed with 2 degrees of freedom, then we would integrate the $k=2$ curve above from 6 to $\\infty$ to determine how likely it is that we would have gotten 6 or larger by chance.  If our distribution was instead $t$ distributed, we would get a *very* different answer.  Note that it is important that you decide *ahead of time* what the metric will be for deciding whether this result is significant or not.  More on this later, but see [this article](http://fivethirtyeight.com/features/science-isnt-broken/)."
   ]
  },
  {
   "cell_type": "markdown",
   "metadata": {
    "slideshow": {
     "slide_type": "slide"
    }
   },
   "source": [
    "## Central Limit Theorem\n",
    "\n",
    "One of the reasons that a Gaussian (or Normal) Distribution is so common is because of the **Central Limit Theorem**. It says that for an arbitrary distribution, $h(x)$, that has a well-defined mean, $\\mu$, and standard deviation, $\\sigma$, the mean of $N$ values \\{$x_i$\\} drawn from the distribution will follow a Gaussian Distribution with $\\mathscr{N}(\\mu,\\sigma/\\sqrt{N})$.  (A Cauchy distribution is one example where this fails.)\n",
    "\n",
    "This theorem is the foudation for the performing repeat measurements in order to improve the accuracy of one's experiment.  It is telling us something about the *shape* of the distribution that we get when averaging.  The **Law of Large Numbers** further says that the sample mean will converge to the distribution mean as $N$ increases."
   ]
  },
  {
   "cell_type": "markdown",
   "metadata": {
    "slideshow": {
     "slide_type": "slide"
    }
   },
   "source": [
    "Personally, I always find this a bit confusing (or at least I forget how it works).  So, let's look at it in detail.\n",
    "Start by plotting a normal distribution with $\\mu=0.5$ and $\\sigma=1/\\sqrt{12}/\\sqrt{2}$.\n",
    "\n",
    "Now take 2 draws from using the `np.random.random` distribution and plot them as a rug plot.  Do that a couple of times (e.g., keep hitting Shift-Enter in the cell)."
   ]
  },
  {
   "cell_type": "code",
   "execution_count": 18,
   "metadata": {
    "collapsed": false,
    "slideshow": {
     "slide_type": "slide"
    }
   },
   "outputs": [
    {
     "data": {
      "text/plain": [
       "[<matplotlib.lines.Line2D at 0x11922ca50>]"
      ]
     },
     "execution_count": 18,
     "metadata": {},
     "output_type": "execute_result"
    },
    {
     "data": {
      "image/png": "[encoded data removed]",
      "text/plain": [
       "<matplotlib.figure.Figure at 0x119031290>"
      ]
     },
     "metadata": {},
     "output_type": "display_data"
    }
   ],
   "source": [
    "import numpy as np\n",
    "from matplotlib import pyplot as plt\n",
    "from scipy.stats import norm\n",
    "\n",
    "N=2 # Complete\n",
    "mu=0.5 # Complete\n",
    "sigma = 1/np.sqrt(12)/np.sqrt(N)  # Complete\n",
    "\n",
    "u = np.linspace(-1, 2, 1000) # Complete\n",
    "dist = norm(mu, sigma) # Complete\n",
    "plt.plot(u, dist.pdf(u)) # Complete\n",
    "\n",
    "x = np.random.random(N) #Complete\n",
    "plt.plot(x, 0*x, '|', markersize=50)"
   ]
  },
  {
   "cell_type": "markdown",
   "metadata": {
    "slideshow": {
     "slide_type": "slide"
    }
   },
   "source": [
    "Now let's average those two draws and plot the result (in the same panel).  Do it as a histogram for 1,000,000 samples (of 2 each).  Use a stepfilled histogram that is normalized with 50% transparency and 100 bins."
   ]
  },
  {
   "cell_type": "code",
   "execution_count": 11,
   "metadata": {
    "collapsed": false,
    "slideshow": {
     "slide_type": "slide"
    }
   },
   "outputs": [
    {
     "data": {
      "text/plain": [
       "(array([ 0.02912887,  0.07533328,  0.11350215,  0.15468434,  0.1858221 ,\n",
       "         0.21394652,  0.25613316,  0.29932424,  0.32644422,  0.37967974,\n",
       "         0.43291526,  0.4429597 ,  0.50222188,  0.5805685 ,  0.55143963,\n",
       "         0.58960849,  0.66695066,  0.70411508,  0.76940392,  0.77743947,\n",
       "         0.83167944,  0.8537772 ,  0.93111937,  0.94015936,  1.00143043,\n",
       "         1.00243488,  1.06069261,  1.0787726 ,  1.15410588,  1.19729697,\n",
       "         1.25655915,  1.27966135,  1.29171468,  1.42128793,  1.37508351,\n",
       "         1.35399019,  1.49963454,  1.5538745 ,  1.60610558,  1.52273675,\n",
       "         1.61514557,  1.63824778,  1.68947441,  1.74471882,  1.7236255 ,\n",
       "         1.79494101,  1.94058535,  1.83913653,  1.94661201,  2.01390975,\n",
       "         1.99080754,  2.03299418,  1.94661201,  1.78590101,  1.85621207,\n",
       "         1.7879099 ,  1.73366994,  1.71960772,  1.64327   ,  1.60911891,\n",
       "         1.60711002,  1.50365231,  1.52675452,  1.39919016,  1.45845234,\n",
       "         1.3610213 ,  1.32385688,  1.24551027,  1.31582133,  1.26660359,\n",
       "         1.18825697,  1.17218587,  1.14707478,  1.1269859 ,  0.98736822,\n",
       "         1.02453264,  0.92408826,  0.85277276,  0.83368832,  0.7965239 ,\n",
       "         0.78145725,  0.72018618,  0.73023062,  0.67297732,  0.60668403,\n",
       "         0.57454183,  0.55445296,  0.54541296,  0.46606191,  0.38671085,\n",
       "         0.39675529,  0.30635535,  0.30233757,  0.29229314,  0.21294208,\n",
       "         0.20289764,  0.13559991,  0.09943993,  0.05725329,  0.02209776]),\n",
       " array([ 0.00219046,  0.01214622,  0.02210198,  0.03205774,  0.0420135 ,\n",
       "         0.05196925,  0.06192501,  0.07188077,  0.08183653,  0.09179229,\n",
       "         0.10174805,  0.11170381,  0.12165957,  0.13161533,  0.14157109,\n",
       "         0.15152684,  0.1614826 ,  0.17143836,  0.18139412,  0.19134988,\n",
       "         0.20130564,  0.2112614 ,  0.22121716,  0.23117292,  0.24112868,\n",
       "         0.25108443,  0.26104019,  0.27099595,  0.28095171,  0.29090747,\n",
       "         0.30086323,  0.31081899,  0.32077475,  0.33073051,  0.34068626,\n",
       "         0.35064202,  0.36059778,  0.37055354,  0.3805093 ,  0.39046506,\n",
       "         0.40042082,  0.41037658,  0.42033234,  0.4302881 ,  0.44024385,\n",
       "         0.45019961,  0.46015537,  0.47011113,  0.48006689,  0.49002265,\n",
       "         0.49997841,  0.50993417,  0.51988993,  0.52984569,  0.53980144,\n",
       "         0.5497572 ,  0.55971296,  0.56966872,  0.57962448,  0.58958024,\n",
       "         0.599536  ,  0.60949176,  0.61944752,  0.62940327,  0.63935903,\n",
       "         0.64931479,  0.65927055,  0.66922631,  0.67918207,  0.68913783,\n",
       "         0.69909359,  0.70904935,  0.71900511,  0.72896086,  0.73891662,\n",
       "         0.74887238,  0.75882814,  0.7687839 ,  0.77873966,  0.78869542,\n",
       "         0.79865118,  0.80860694,  0.8185627 ,  0.82851845,  0.83847421,\n",
       "         0.84842997,  0.85838573,  0.86834149,  0.87829725,  0.88825301,\n",
       "         0.89820877,  0.90816453,  0.91812028,  0.92807604,  0.9380318 ,\n",
       "         0.94798756,  0.95794332,  0.96789908,  0.97785484,  0.9878106 ,\n",
       "         0.99776636]),\n",
       " <a list of 1 Patch objects>)"
      ]
     },
     "execution_count": 11,
     "metadata": {},
     "output_type": "execute_result"
    },
    {
     "data": {
      "image/png": "[encoded data removed]",
      "text/plain": [
       "<matplotlib.figure.Figure at 0x117a825d0>"
      ]
     },
     "metadata": {},
     "output_type": "display_data"
    }
   ],
   "source": [
    "# Copy your code from above\n",
    "\n",
    "# Add a histogram that is the mean of 1,000,000 draws\n",
    "\n",
    "yy = np.empty(100000)\n",
    "for i in range(100000):\n",
    "    xx = np.random.random(N)\n",
    "    yy[i] = xx.mean()\n",
    "\n",
    "plt.hist(yy,bins=100,histtype='stepfilled', alpha=0.5, normed=True)"
   ]
  },
  {
   "cell_type": "markdown",
   "metadata": {
    "slideshow": {
     "slide_type": "slide"
    }
   },
   "source": [
    "Now instead of averaging 2 draws, average 3.  Then do it for 10.  Then for 100.  Each time for 1,000,000 samples.\n",
    "Make sure that you adjust the \"expected\" Gaussian based on the number of draws.\n"
   ]
  },
  {
   "cell_type": "code",
   "execution_count": 29,
   "metadata": {
    "collapsed": false,
    "slideshow": {
     "slide_type": "slide"
    }
   },
   "outputs": [
    {
     "data": {
      "text/plain": [
       "(array([  1.35866910e-03,   0.00000000e+00,   0.00000000e+00,\n",
       "          1.35866910e-03,   2.71733821e-03,   1.35866910e-03,\n",
       "          5.43467641e-03,   2.71733821e-03,   4.07600731e-03,\n",
       "          4.07600731e-03,   8.15201462e-03,   1.35866910e-02,\n",
       "          1.63040292e-02,   3.94014040e-02,   3.39667276e-02,\n",
       "          3.66840658e-02,   5.43467641e-02,   8.28788153e-02,\n",
       "          9.91828445e-02,   1.27714896e-01,   1.75268314e-01,\n",
       "          1.90213674e-01,   2.32332417e-01,   2.97548533e-01,\n",
       "          3.57329974e-01,   4.14394076e-01,   5.62489008e-01,\n",
       "          5.88303721e-01,   7.29605308e-01,   8.50526858e-01,\n",
       "          9.89111107e-01,   1.13720604e+00,   1.25269291e+00,\n",
       "          1.43611324e+00,   1.65078296e+00,   1.80838858e+00,\n",
       "          2.07468772e+00,   2.12359981e+00,   2.38582294e+00,\n",
       "          2.60592734e+00,   2.93336659e+00,   3.07602685e+00,\n",
       "          3.32194596e+00,   3.40346610e+00,   3.69557996e+00,\n",
       "          3.75264406e+00,   3.83280554e+00,   4.00535651e+00,\n",
       "          4.10046335e+00,   4.22546091e+00,   4.23089559e+00,\n",
       "          4.41023991e+00,   4.22817825e+00,   4.42110926e+00,\n",
       "          4.25399296e+00,   4.27165566e+00,   4.02437788e+00,\n",
       "          3.90481500e+00,   3.82193619e+00,   3.60862514e+00,\n",
       "          3.46596488e+00,   3.26488185e+00,   3.12222160e+00,\n",
       "          2.85456378e+00,   2.77576098e+00,   2.45647374e+00,\n",
       "          2.29886812e+00,   2.06381837e+00,   1.76219383e+00,\n",
       "          1.66844566e+00,   1.45649328e+00,   1.23774755e+00,\n",
       "          1.17117277e+00,   1.04889255e+00,   9.04873622e-01,\n",
       "          7.97538763e-01,   6.57595846e-01,   5.62489008e-01,\n",
       "          4.97272892e-01,   3.69557996e-01,   2.96189864e-01,\n",
       "          2.51353784e-01,   2.11952380e-01,   1.82061660e-01,\n",
       "          1.30432234e-01,   1.19562881e-01,   7.88028079e-02,\n",
       "          7.20094624e-02,   3.66840658e-02,   2.85320512e-02,\n",
       "          3.26080585e-02,   2.17387056e-02,   1.63040292e-02,\n",
       "          1.22280219e-02,   5.43467641e-03,   5.43467641e-03,\n",
       "          1.35866910e-03,   2.71733821e-03,   1.35866910e-03,\n",
       "          2.71733821e-03]),\n",
       " array([ 0.11638876,  0.1237489 ,  0.13110905,  0.13846919,  0.14582933,\n",
       "         0.15318948,  0.16054962,  0.16790977,  0.17526991,  0.18263005,\n",
       "         0.1899902 ,  0.19735034,  0.20471049,  0.21207063,  0.21943077,\n",
       "         0.22679092,  0.23415106,  0.2415112 ,  0.24887135,  0.25623149,\n",
       "         0.26359164,  0.27095178,  0.27831192,  0.28567207,  0.29303221,\n",
       "         0.30039235,  0.3077525 ,  0.31511264,  0.32247279,  0.32983293,\n",
       "         0.33719307,  0.34455322,  0.35191336,  0.35927351,  0.36663365,\n",
       "         0.37399379,  0.38135394,  0.38871408,  0.39607422,  0.40343437,\n",
       "         0.41079451,  0.41815466,  0.4255148 ,  0.43287494,  0.44023509,\n",
       "         0.44759523,  0.45495537,  0.46231552,  0.46967566,  0.47703581,\n",
       "         0.48439595,  0.49175609,  0.49911624,  0.50647638,  0.51383653,\n",
       "         0.52119667,  0.52855681,  0.53591696,  0.5432771 ,  0.55063724,\n",
       "         0.55799739,  0.56535753,  0.57271768,  0.58007782,  0.58743796,\n",
       "         0.59479811,  0.60215825,  0.6095184 ,  0.61687854,  0.62423868,\n",
       "         0.63159883,  0.63895897,  0.64631911,  0.65367926,  0.6610394 ,\n",
       "         0.66839955,  0.67575969,  0.68311983,  0.69047998,  0.69784012,\n",
       "         0.70520026,  0.71256041,  0.71992055,  0.7272807 ,  0.73464084,\n",
       "         0.74200098,  0.74936113,  0.75672127,  0.76408142,  0.77144156,\n",
       "         0.7788017 ,  0.78616185,  0.79352199,  0.80088213,  0.80824228,\n",
       "         0.81560242,  0.82296257,  0.83032271,  0.83768285,  0.845043  ,\n",
       "         0.85240314]),\n",
       " <a list of 1 Patch objects>)"
      ]
     },
     "execution_count": 29,
     "metadata": {},
     "output_type": "execute_result"
    },
    {
     "data": {
      "image/png": "[encoded data removed]",
      "text/plain": [
       "<matplotlib.figure.Figure at 0x11977b190>"
      ]
     },
     "metadata": {},
     "output_type": "display_data"
    }
   ],
   "source": [
    "# Copy your code from above and edit accordingly (or just edit your code from above)\n",
    "import numpy as np\n",
    "from matplotlib import pyplot as plt\n",
    "from scipy.stats import norm\n",
    "N=10\n",
    "\n",
    "mu=0.5\n",
    "sigma = 1/np.sqrt(12)/np.sqrt(N)\n",
    "\n",
    "u = np.linspace(-0.2, 1.2, 1000)\n",
    "dist = norm(mu, sigma)\n",
    "plt.plot(u, dist.pdf(u))\n",
    "\n",
    "x = np.random.random(N)\n",
    "plt.plot(x, 0*x, '|', markersize=50)\n",
    "\n",
    "yy = np.empty(100000)\n",
    "for i in range(100000):\n",
    "    xx = np.random.random(N)\n",
    "    yy[i] = xx.mean()\n",
    "\n",
    "plt.hist(yy,bins=100,histtype='stepfilled', alpha=0.5, normed=True)"
   ]
  },
  {
   "cell_type": "markdown",
   "metadata": {
    "slideshow": {
     "slide_type": "slide"
    }
   },
   "source": [
    "For 100 you will note that your draws are clearly sampling the full range, but the means of those draws are in a *much* more restrictred range.  Moreover they are very closely following a Normal Distribution.  This is the power of the Central Limit Theorem.    We'll see this more later when we talk about **maximum likelihood**.\n",
    "\n",
    "By the way, if your code is ugly, you can run the following cell to reproduce Ivezic, Figure 3.20 which nicely illustrates this in one plot."
   ]
  },
  {
   "cell_type": "code",
   "execution_count": 28,
   "metadata": {
    "collapsed": false,
    "slideshow": {
     "slide_type": "slide"
    }
   },
   "outputs": [
    {
     "name": "stderr",
     "output_type": "stream",
     "text": [
      "code/fig_central_limit.py:40: VisibleDeprecationWarning: using a non-integer number instead of an integer will result in an error in the future\n",
      "  x = np.random.random((max(N), 1E6))\n"
     ]
    },
    {
     "data": {
      "image/png": "[encoded data removed]",
      "text/plain": [
       "<matplotlib.figure.Figure at 0x11a476c50>"
      ]
     },
     "metadata": {},
     "output_type": "display_data"
    }
   ],
   "source": [
    "# Execute this cell\n",
    "%run code/fig_central_limit.py"
   ]
  },
  {
   "cell_type": "markdown",
   "metadata": {
    "slideshow": {
     "slide_type": "slide"
    }
   },
   "source": [
    "If you are confused, then watch this video from the Khan Academy:\n",
    "[https://www.khanacademy.org/math/statistics-probability/sampling-distributions-library/sample-means/v/central-limit-theorem](https://www.khanacademy.org/math/statistics-probability/sampling-distributions-library/sample-means/v/central-limit-theorem)"
   ]
  },
  {
   "cell_type": "markdown",
   "metadata": {
    "slideshow": {
     "slide_type": "slide"
    }
   },
   "source": [
    "## Bivariate and Multivariate Distribution Functions\n",
    "\n",
    "Up to now we have been dealing with one-dimensional distribution functions.  Let's now consider a two dimensional distribution $h(x,y)$ where $$\\int_{-\\infty}^{\\infty}dx\\int_{-\\infty}^{\\infty}h(x,y)dy = 1.$$  $h(x,y)$ is telling us the probability that $x$ is between $x$ and $dx$ and *also* that $y$ is between $y$ and $dy$.\n",
    "\n",
    "Then we have the following definitions:\n",
    "\n",
    "$$\\sigma^2_x = \\int_{-\\infty}^{\\infty}\\int_{-\\infty}^{\\infty}(x-\\mu_x)^2 h(x,y) dx dy$$\n",
    "\n",
    "$$\\sigma^2_y = \\int_{-\\infty}^{\\infty}\\int_{-\\infty}^{\\infty}(y-\\mu_y)^2 h(x,y) dx dy$$\n",
    "\n",
    "$$\\mu_x = \\int_{-\\infty}^{\\infty}\\int_{-\\infty}^{\\infty}x h(x,y) dx dy$$\n",
    "\n",
    "$$\\sigma_{xy} = Cov(x,y) = \\int_{-\\infty}^{\\infty}\\int_{-\\infty}^{\\infty}(x-\\mu_x) (y-\\mu_y) h(x,y) dx dy$$\n",
    "\n",
    "If $x$ and $y$ are uncorrelated, then we can treat the system as two independent 1-D distributions.  This means that choosing a range on one variable has no effect on the distribution of the other."
   ]
  },
  {
   "cell_type": "markdown",
   "metadata": {
    "slideshow": {
     "slide_type": "slide"
    }
   },
   "source": [
    "We can write the 2-D Gaussian pdf as\n",
    "$$p(x,y|\\mu_x,\\mu_y,\\sigma_x,\\sigma_y,\\sigma_{xy}) = \\frac{1}{2\\pi \\sigma_x \\sigma_y \\sqrt{1-\\rho^2}} \\exp\\left(\\frac{-z^2}{2(1-\\rho^2)}\\right),$$\n",
    "\n",
    "where $$z^2 = \\frac{(x-\\mu_x)^2}{\\sigma_x^2} + \\frac{(y-\\mu_y)^2}{\\sigma_y^2} - 2\\rho\\frac{(x-\\mu_x)(y-\\mu_y)}{\\sigma_x\\sigma_y},$$\n",
    "\n",
    "with $$\\rho = \\frac{\\sigma_{xy}}{\\sigma_x\\sigma_y}$$\n",
    "as the (dimensionless) correlation coefficient.\n",
    "\n",
    "If $x$ and $y$ are perfectly correlated then $\\rho=\\pm1$ and if they are uncorrelated, then $\\rho=0$."
   ]
  },
  {
   "cell_type": "markdown",
   "metadata": {
    "slideshow": {
     "slide_type": "slide"
    }
   },
   "source": [
    "The pdf is now not a histogram, but rather a series of contours in the $x-y$ plane.   These are centered at $(x=\\mu_x, y=\\mu_y)$ and are tilted at angle $\\alpha$, which is given by\n",
    "$$\\tan(2 \\alpha) = 2\\rho\\frac{\\sigma_x\\sigma_y}{\\sigma_x^2-\\sigma_y^2} = 2\\frac{\\sigma_{xy}}{\\sigma_x^2-\\sigma_y^2}.$$\n",
    "\n",
    "For example (Ivezic, Figure 3.22):\n",
    "![Ivezic, Figure 3.22](http://www.astroml.org/_images/fig_bivariate_gaussian_1.png)"
   ]
  },
  {
   "cell_type": "markdown",
   "metadata": {
    "slideshow": {
     "slide_type": "slide"
    }
   },
   "source": [
    "We can define new coordinate axes that are aligned with the minimum and maximum widths of the distribution.  These are called the **principal axes** and are given by\n",
    "$$P_1 = (x-\\mu_x)\\cos\\alpha + (y-\\mu_y)\\sin\\alpha,$$\n",
    "and\n",
    "$$P_2 = -(x-\\mu_x)\\sin\\alpha + (y-\\mu_y)\\cos\\alpha.$$\n",
    "\n",
    "The widths in this coordinate system are\n",
    "$$\\sigma^2_{1,2} = \\frac{\\sigma_x^2+\\sigma_y^2}{2}\\pm\\sqrt{\\left(\\frac{\\sigma_x^2-\\sigma_y^2}{2}\\right)^2 + \\sigma^2_{xy}}.$$\n",
    "\n",
    "Note that the correlation vanishes in this coordinate system and the bivariate Gaussian is just a product of two univariate Gaussians.  This concept will be crucial for understanding Principal Component Analysis when we get to Chapter 7, where PCA extends this idea to even more dimensions."
   ]
  },
  {
   "cell_type": "markdown",
   "metadata": {
    "slideshow": {
     "slide_type": "slide"
    }
   },
   "source": [
    "In the univariate case we used $\\overline{x}$ and $s$ to *estimate* $\\mu$ and $\\sigma$.  In the bivariate case we estimate 5 parameters: $(\\overline{x},\\overline{y},s_x,s_y,s_{xy})$.  \n",
    "\n",
    "As with the univariate case, it is important to realize that outliers can bias these estimates and that it may be more appropriate to use the median rather than the mean as a more robust estimator for $\\mu_x$ and $\\mu_y$.  Similarly we want robust estimators for the other parameters of the fit.  We won't go into that in detail right now, but see Ivezic, Figure 3.23 for an example:\n",
    "\n",
    "![Ivezic, Figure 3.23](http://www.astroml.org/_images/fig_robust_pca_1.png)"
   ]
  },
  {
   "cell_type": "markdown",
   "metadata": {
    "slideshow": {
     "slide_type": "slide"
    }
   },
   "source": [
    "For an example of how to generate a bivariate distribution and plot confidence contours, execute the following cell."
   ]
  },
  {
   "cell_type": "code",
   "execution_count": 67,
   "metadata": {
    "collapsed": false,
    "slideshow": {
     "slide_type": "slide"
    }
   },
   "outputs": [
    {
     "data": {
      "image/png": "[encoded data removed]",
      "text/plain": [
       "<matplotlib.figure.Figure at 0x11a2ce050>"
      ]
     },
     "metadata": {},
     "output_type": "display_data"
    }
   ],
   "source": [
    "# Base code drawn from Ivezic, Figure 3.22, edited by G. Richards to simplify the example\n",
    "\n",
    "from matplotlib.patches import Ellipse\n",
    "from astroML.stats.random import bivariate_normal\n",
    "from astroML.stats import fit_bivariate_normal\n",
    "\n",
    "#------------------------------------------------------------\n",
    "# Create 10,000 points from a multivariate normal distribution\n",
    "mean = [0, 0]\n",
    "cov = [[1, 0.3], [0.3, 1]]\n",
    "x, y = np.random.multivariate_normal(mean, cov, 10000).T\n",
    "\n",
    "mean, sigma_x, sigma_y, alpha = fit_bivariate_normal(x,y)\n",
    "\n",
    "#------------------------------------------------------------\n",
    "# Plot the results\n",
    "fig = plt.figure(figsize=(5, 5))\n",
    "ax = fig.add_subplot(111)\n",
    "\n",
    "plt.scatter(x,y,s=2,edgecolor='none')\n",
    "\n",
    "# draw 1, 2, 3-sigma ellipses over the distribution\n",
    "for N in (1, 2, 3):\n",
    "    ax.add_patch(Ellipse(mean, N * sigma_x, N * sigma_y, angle=alpha * 180./np.pi, lw=1, ec='k', fc='none'))"
   ]
  }
 ],
 "metadata": {
  "anaconda-cloud": {},
  "celltoolbar": "Slideshow",
  "kernelspec": {
   "display_name": "Python [Root]",
   "language": "python",
   "name": "Python [Root]"
  },
  "language_info": {
   "codemirror_mode": {
    "name": "ipython",
    "version": 2
   },
   "file_extension": ".py",
   "mimetype": "text/x-python",
   "name": "python",
   "nbconvert_exporter": "python",
   "pygments_lexer": "ipython2",
   "version": "2.7.12"
  }
 },
 "nbformat": 4,
 "nbformat_minor": 0
}
